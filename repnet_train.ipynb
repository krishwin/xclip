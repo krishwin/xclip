{
 "cells": [
  {
   "cell_type": "code",
   "execution_count": 1,
   "metadata": {},
   "outputs": [],
   "source": [
    "%load_ext autoreload\n",
    "%autoreload 2\n",
    "import os\n",
    "import sys\n",
    "module_path = os.path.abspath(os.path.join('./xclip'))\n",
    "sys.path.insert(0, module_path)"
   ]
  },
  {
   "cell_type": "code",
   "execution_count": 5,
   "metadata": {},
   "outputs": [],
   "source": [
    "import xclip\n",
    "import xclip.models.xclip as xclip\n",
    "from xclip.utils.logger import create_logger\n",
    "logger = create_logger('./')\n",
    "import numpy as np\n",
    "import torch\n",
    "from xclip.utils.config import  get_config  \n",
    "from xclip.models.cct import load\n",
    "import xclip.datasets.build as build\n",
    "import cv2\n",
    "import timm\n",
    "import open_clip"
   ]
  },
  {
   "cell_type": "code",
   "execution_count": 31,
   "metadata": {},
   "outputs": [
    {
     "name": "stdout",
     "output_type": "stream",
     "text": [
      "=> merge config from ./xclip/configs/countix/countix.yaml\n"
     ]
    }
   ],
   "source": [
    "class Args:\n",
    "    def __init__(self):\n",
    "        self.config = './xclip/configs/countix/countix.yaml'\n",
    "        self.opts = None\n",
    "        self.auto_resume = False\n",
    "        self.batch_size=4\n",
    "        self.pretrained=None\n",
    "        self.resume=False\n",
    "        self.accumulation_steps=None\n",
    "        self.output=None\n",
    "        self.only_test=False\n",
    "        self.local_rank=None\n",
    "args = Args()\n",
    "config=get_config(args)\n"
   ]
  },
  {
   "cell_type": "code",
   "execution_count": 401,
   "metadata": {},
   "outputs": [
    {
     "name": "stdout",
     "output_type": "stream",
     "text": [
      "\u001b[32m[2024-11-21 14:50:32 root]\u001b[0m\u001b[33m(cct.py 289)\u001b[0m: INFO load pretrained CLIP: _IncompatibleKeys(missing_keys=['class_embedding', 'positional_embedding', 'proj', 'conv1.weight', 'ln_pre.weight', 'ln_pre.bias', 'transformer.resblocks.0.message_fc.weight', 'transformer.resblocks.0.message_fc.bias', 'transformer.resblocks.0.message_ln.weight', 'transformer.resblocks.0.message_ln.bias', 'transformer.resblocks.0.message_attn.in_proj_weight', 'transformer.resblocks.0.message_attn.in_proj_bias', 'transformer.resblocks.0.message_attn.out_proj.weight', 'transformer.resblocks.0.message_attn.out_proj.bias', 'transformer.resblocks.0.attn.in_proj_weight', 'transformer.resblocks.0.attn.in_proj_bias', 'transformer.resblocks.0.attn.out_proj.weight', 'transformer.resblocks.0.attn.out_proj.bias', 'transformer.resblocks.0.ln_1.weight', 'transformer.resblocks.0.ln_1.bias', 'transformer.resblocks.0.mlp.c_fc.weight', 'transformer.resblocks.0.mlp.c_fc.bias', 'transformer.resblocks.0.mlp.c_proj.weight', 'transformer.resblocks.0.mlp.c_proj.bias', 'transformer.resblocks.0.ln_2.weight', 'transformer.resblocks.0.ln_2.bias', 'transformer.resblocks.1.message_fc.weight', 'transformer.resblocks.1.message_fc.bias', 'transformer.resblocks.1.message_ln.weight', 'transformer.resblocks.1.message_ln.bias', 'transformer.resblocks.1.message_attn.in_proj_weight', 'transformer.resblocks.1.message_attn.in_proj_bias', 'transformer.resblocks.1.message_attn.out_proj.weight', 'transformer.resblocks.1.message_attn.out_proj.bias', 'transformer.resblocks.1.attn.in_proj_weight', 'transformer.resblocks.1.attn.in_proj_bias', 'transformer.resblocks.1.attn.out_proj.weight', 'transformer.resblocks.1.attn.out_proj.bias', 'transformer.resblocks.1.ln_1.weight', 'transformer.resblocks.1.ln_1.bias', 'transformer.resblocks.1.mlp.c_fc.weight', 'transformer.resblocks.1.mlp.c_fc.bias', 'transformer.resblocks.1.mlp.c_proj.weight', 'transformer.resblocks.1.mlp.c_proj.bias', 'transformer.resblocks.1.ln_2.weight', 'transformer.resblocks.1.ln_2.bias', 'transformer.resblocks.2.message_fc.weight', 'transformer.resblocks.2.message_fc.bias', 'transformer.resblocks.2.message_ln.weight', 'transformer.resblocks.2.message_ln.bias', 'transformer.resblocks.2.message_attn.in_proj_weight', 'transformer.resblocks.2.message_attn.in_proj_bias', 'transformer.resblocks.2.message_attn.out_proj.weight', 'transformer.resblocks.2.message_attn.out_proj.bias', 'transformer.resblocks.2.attn.in_proj_weight', 'transformer.resblocks.2.attn.in_proj_bias', 'transformer.resblocks.2.attn.out_proj.weight', 'transformer.resblocks.2.attn.out_proj.bias', 'transformer.resblocks.2.ln_1.weight', 'transformer.resblocks.2.ln_1.bias', 'transformer.resblocks.2.mlp.c_fc.weight', 'transformer.resblocks.2.mlp.c_fc.bias', 'transformer.resblocks.2.mlp.c_proj.weight', 'transformer.resblocks.2.mlp.c_proj.bias', 'transformer.resblocks.2.ln_2.weight', 'transformer.resblocks.2.ln_2.bias', 'transformer.resblocks.3.message_fc.weight', 'transformer.resblocks.3.message_fc.bias', 'transformer.resblocks.3.message_ln.weight', 'transformer.resblocks.3.message_ln.bias', 'transformer.resblocks.3.message_attn.in_proj_weight', 'transformer.resblocks.3.message_attn.in_proj_bias', 'transformer.resblocks.3.message_attn.out_proj.weight', 'transformer.resblocks.3.message_attn.out_proj.bias', 'transformer.resblocks.3.attn.in_proj_weight', 'transformer.resblocks.3.attn.in_proj_bias', 'transformer.resblocks.3.attn.out_proj.weight', 'transformer.resblocks.3.attn.out_proj.bias', 'transformer.resblocks.3.ln_1.weight', 'transformer.resblocks.3.ln_1.bias', 'transformer.resblocks.3.mlp.c_fc.weight', 'transformer.resblocks.3.mlp.c_fc.bias', 'transformer.resblocks.3.mlp.c_proj.weight', 'transformer.resblocks.3.mlp.c_proj.bias', 'transformer.resblocks.3.ln_2.weight', 'transformer.resblocks.3.ln_2.bias', 'transformer.resblocks.4.message_fc.weight', 'transformer.resblocks.4.message_fc.bias', 'transformer.resblocks.4.message_ln.weight', 'transformer.resblocks.4.message_ln.bias', 'transformer.resblocks.4.message_attn.in_proj_weight', 'transformer.resblocks.4.message_attn.in_proj_bias', 'transformer.resblocks.4.message_attn.out_proj.weight', 'transformer.resblocks.4.message_attn.out_proj.bias', 'transformer.resblocks.4.attn.in_proj_weight', 'transformer.resblocks.4.attn.in_proj_bias', 'transformer.resblocks.4.attn.out_proj.weight', 'transformer.resblocks.4.attn.out_proj.bias', 'transformer.resblocks.4.ln_1.weight', 'transformer.resblocks.4.ln_1.bias', 'transformer.resblocks.4.mlp.c_fc.weight', 'transformer.resblocks.4.mlp.c_fc.bias', 'transformer.resblocks.4.mlp.c_proj.weight', 'transformer.resblocks.4.mlp.c_proj.bias', 'transformer.resblocks.4.ln_2.weight', 'transformer.resblocks.4.ln_2.bias', 'transformer.resblocks.5.message_fc.weight', 'transformer.resblocks.5.message_fc.bias', 'transformer.resblocks.5.message_ln.weight', 'transformer.resblocks.5.message_ln.bias', 'transformer.resblocks.5.message_attn.in_proj_weight', 'transformer.resblocks.5.message_attn.in_proj_bias', 'transformer.resblocks.5.message_attn.out_proj.weight', 'transformer.resblocks.5.message_attn.out_proj.bias', 'transformer.resblocks.5.attn.in_proj_weight', 'transformer.resblocks.5.attn.in_proj_bias', 'transformer.resblocks.5.attn.out_proj.weight', 'transformer.resblocks.5.attn.out_proj.bias', 'transformer.resblocks.5.ln_1.weight', 'transformer.resblocks.5.ln_1.bias', 'transformer.resblocks.5.mlp.c_fc.weight', 'transformer.resblocks.5.mlp.c_fc.bias', 'transformer.resblocks.5.mlp.c_proj.weight', 'transformer.resblocks.5.mlp.c_proj.bias', 'transformer.resblocks.5.ln_2.weight', 'transformer.resblocks.5.ln_2.bias', 'transformer.resblocks.6.message_fc.weight', 'transformer.resblocks.6.message_fc.bias', 'transformer.resblocks.6.message_ln.weight', 'transformer.resblocks.6.message_ln.bias', 'transformer.resblocks.6.message_attn.in_proj_weight', 'transformer.resblocks.6.message_attn.in_proj_bias', 'transformer.resblocks.6.message_attn.out_proj.weight', 'transformer.resblocks.6.message_attn.out_proj.bias', 'transformer.resblocks.6.attn.in_proj_weight', 'transformer.resblocks.6.attn.in_proj_bias', 'transformer.resblocks.6.attn.out_proj.weight', 'transformer.resblocks.6.attn.out_proj.bias', 'transformer.resblocks.6.ln_1.weight', 'transformer.resblocks.6.ln_1.bias', 'transformer.resblocks.6.mlp.c_fc.weight', 'transformer.resblocks.6.mlp.c_fc.bias', 'transformer.resblocks.6.mlp.c_proj.weight', 'transformer.resblocks.6.mlp.c_proj.bias', 'transformer.resblocks.6.ln_2.weight', 'transformer.resblocks.6.ln_2.bias', 'transformer.resblocks.7.message_fc.weight', 'transformer.resblocks.7.message_fc.bias', 'transformer.resblocks.7.message_ln.weight', 'transformer.resblocks.7.message_ln.bias', 'transformer.resblocks.7.message_attn.in_proj_weight', 'transformer.resblocks.7.message_attn.in_proj_bias', 'transformer.resblocks.7.message_attn.out_proj.weight', 'transformer.resblocks.7.message_attn.out_proj.bias', 'transformer.resblocks.7.attn.in_proj_weight', 'transformer.resblocks.7.attn.in_proj_bias', 'transformer.resblocks.7.attn.out_proj.weight', 'transformer.resblocks.7.attn.out_proj.bias', 'transformer.resblocks.7.ln_1.weight', 'transformer.resblocks.7.ln_1.bias', 'transformer.resblocks.7.mlp.c_fc.weight', 'transformer.resblocks.7.mlp.c_fc.bias', 'transformer.resblocks.7.mlp.c_proj.weight', 'transformer.resblocks.7.mlp.c_proj.bias', 'transformer.resblocks.7.ln_2.weight', 'transformer.resblocks.7.ln_2.bias', 'transformer.resblocks.8.message_fc.weight', 'transformer.resblocks.8.message_fc.bias', 'transformer.resblocks.8.message_ln.weight', 'transformer.resblocks.8.message_ln.bias', 'transformer.resblocks.8.message_attn.in_proj_weight', 'transformer.resblocks.8.message_attn.in_proj_bias', 'transformer.resblocks.8.message_attn.out_proj.weight', 'transformer.resblocks.8.message_attn.out_proj.bias', 'transformer.resblocks.8.attn.in_proj_weight', 'transformer.resblocks.8.attn.in_proj_bias', 'transformer.resblocks.8.attn.out_proj.weight', 'transformer.resblocks.8.attn.out_proj.bias', 'transformer.resblocks.8.ln_1.weight', 'transformer.resblocks.8.ln_1.bias', 'transformer.resblocks.8.mlp.c_fc.weight', 'transformer.resblocks.8.mlp.c_fc.bias', 'transformer.resblocks.8.mlp.c_proj.weight', 'transformer.resblocks.8.mlp.c_proj.bias', 'transformer.resblocks.8.ln_2.weight', 'transformer.resblocks.8.ln_2.bias', 'transformer.resblocks.9.message_fc.weight', 'transformer.resblocks.9.message_fc.bias', 'transformer.resblocks.9.message_ln.weight', 'transformer.resblocks.9.message_ln.bias', 'transformer.resblocks.9.message_attn.in_proj_weight', 'transformer.resblocks.9.message_attn.in_proj_bias', 'transformer.resblocks.9.message_attn.out_proj.weight', 'transformer.resblocks.9.message_attn.out_proj.bias', 'transformer.resblocks.9.attn.in_proj_weight', 'transformer.resblocks.9.attn.in_proj_bias', 'transformer.resblocks.9.attn.out_proj.weight', 'transformer.resblocks.9.attn.out_proj.bias', 'transformer.resblocks.9.ln_1.weight', 'transformer.resblocks.9.ln_1.bias', 'transformer.resblocks.9.mlp.c_fc.weight', 'transformer.resblocks.9.mlp.c_fc.bias', 'transformer.resblocks.9.mlp.c_proj.weight', 'transformer.resblocks.9.mlp.c_proj.bias', 'transformer.resblocks.9.ln_2.weight', 'transformer.resblocks.9.ln_2.bias', 'transformer.resblocks.10.message_fc.weight', 'transformer.resblocks.10.message_fc.bias', 'transformer.resblocks.10.message_ln.weight', 'transformer.resblocks.10.message_ln.bias', 'transformer.resblocks.10.message_attn.in_proj_weight', 'transformer.resblocks.10.message_attn.in_proj_bias', 'transformer.resblocks.10.message_attn.out_proj.weight', 'transformer.resblocks.10.message_attn.out_proj.bias', 'transformer.resblocks.10.attn.in_proj_weight', 'transformer.resblocks.10.attn.in_proj_bias', 'transformer.resblocks.10.attn.out_proj.weight', 'transformer.resblocks.10.attn.out_proj.bias', 'transformer.resblocks.10.ln_1.weight', 'transformer.resblocks.10.ln_1.bias', 'transformer.resblocks.10.mlp.c_fc.weight', 'transformer.resblocks.10.mlp.c_fc.bias', 'transformer.resblocks.10.mlp.c_proj.weight', 'transformer.resblocks.10.mlp.c_proj.bias', 'transformer.resblocks.10.ln_2.weight', 'transformer.resblocks.10.ln_2.bias', 'transformer.resblocks.11.message_fc.weight', 'transformer.resblocks.11.message_fc.bias', 'transformer.resblocks.11.message_ln.weight', 'transformer.resblocks.11.message_ln.bias', 'transformer.resblocks.11.message_attn.in_proj_weight', 'transformer.resblocks.11.message_attn.in_proj_bias', 'transformer.resblocks.11.message_attn.out_proj.weight', 'transformer.resblocks.11.message_attn.out_proj.bias', 'transformer.resblocks.11.attn.in_proj_weight', 'transformer.resblocks.11.attn.in_proj_bias', 'transformer.resblocks.11.attn.out_proj.weight', 'transformer.resblocks.11.attn.out_proj.bias', 'transformer.resblocks.11.ln_1.weight', 'transformer.resblocks.11.ln_1.bias', 'transformer.resblocks.11.mlp.c_fc.weight', 'transformer.resblocks.11.mlp.c_fc.bias', 'transformer.resblocks.11.mlp.c_proj.weight', 'transformer.resblocks.11.mlp.c_proj.bias', 'transformer.resblocks.11.ln_2.weight', 'transformer.resblocks.11.ln_2.bias', 'ln_post.weight', 'ln_post.bias', 'mit.positional_embedding', 'mit.resblocks.0.attn.in_proj_weight', 'mit.resblocks.0.attn.in_proj_bias', 'mit.resblocks.0.attn.out_proj.weight', 'mit.resblocks.0.attn.out_proj.bias', 'mit.resblocks.0.ln_1.weight', 'mit.resblocks.0.ln_1.bias', 'mit.resblocks.0.mlp.c_fc.weight', 'mit.resblocks.0.mlp.c_fc.bias', 'mit.resblocks.0.mlp.c_proj.weight', 'mit.resblocks.0.mlp.c_proj.bias', 'mit.resblocks.0.ln_2.weight', 'mit.resblocks.0.ln_2.bias', 'mit.resblocks.1.attn.in_proj_weight', 'mit.resblocks.1.attn.in_proj_bias', 'mit.resblocks.1.attn.out_proj.weight', 'mit.resblocks.1.attn.out_proj.bias', 'mit.resblocks.1.ln_1.weight', 'mit.resblocks.1.ln_1.bias', 'mit.resblocks.1.mlp.c_fc.weight', 'mit.resblocks.1.mlp.c_fc.bias', 'mit.resblocks.1.mlp.c_proj.weight', 'mit.resblocks.1.mlp.c_proj.bias', 'mit.resblocks.1.ln_2.weight', 'mit.resblocks.1.ln_2.bias', 'mit.resblocks.2.attn.in_proj_weight', 'mit.resblocks.2.attn.in_proj_bias', 'mit.resblocks.2.attn.out_proj.weight', 'mit.resblocks.2.attn.out_proj.bias', 'mit.resblocks.2.ln_1.weight', 'mit.resblocks.2.ln_1.bias', 'mit.resblocks.2.mlp.c_fc.weight', 'mit.resblocks.2.mlp.c_fc.bias', 'mit.resblocks.2.mlp.c_proj.weight', 'mit.resblocks.2.mlp.c_proj.bias', 'mit.resblocks.2.ln_2.weight', 'mit.resblocks.2.ln_2.bias', 'mit.resblocks.3.attn.in_proj_weight', 'mit.resblocks.3.attn.in_proj_bias', 'mit.resblocks.3.attn.out_proj.weight', 'mit.resblocks.3.attn.out_proj.bias', 'mit.resblocks.3.ln_1.weight', 'mit.resblocks.3.ln_1.bias', 'mit.resblocks.3.mlp.c_fc.weight', 'mit.resblocks.3.mlp.c_fc.bias', 'mit.resblocks.3.mlp.c_proj.weight', 'mit.resblocks.3.mlp.c_proj.bias', 'mit.resblocks.3.ln_2.weight', 'mit.resblocks.3.ln_2.bias'], unexpected_keys=['visual.class_embedding', 'visual.positional_embedding', 'visual.proj', 'visual.conv1.weight', 'visual.ln_pre.weight', 'visual.ln_pre.bias', 'visual.transformer.resblocks.0.attn.in_proj_weight', 'visual.transformer.resblocks.0.attn.in_proj_bias', 'visual.transformer.resblocks.0.attn.out_proj.weight', 'visual.transformer.resblocks.0.attn.out_proj.bias', 'visual.transformer.resblocks.0.ln_1.weight', 'visual.transformer.resblocks.0.ln_1.bias', 'visual.transformer.resblocks.0.mlp.c_fc.weight', 'visual.transformer.resblocks.0.mlp.c_fc.bias', 'visual.transformer.resblocks.0.mlp.c_proj.weight', 'visual.transformer.resblocks.0.mlp.c_proj.bias', 'visual.transformer.resblocks.0.ln_2.weight', 'visual.transformer.resblocks.0.ln_2.bias', 'visual.transformer.resblocks.1.attn.in_proj_weight', 'visual.transformer.resblocks.1.attn.in_proj_bias', 'visual.transformer.resblocks.1.attn.out_proj.weight', 'visual.transformer.resblocks.1.attn.out_proj.bias', 'visual.transformer.resblocks.1.ln_1.weight', 'visual.transformer.resblocks.1.ln_1.bias', 'visual.transformer.resblocks.1.mlp.c_fc.weight', 'visual.transformer.resblocks.1.mlp.c_fc.bias', 'visual.transformer.resblocks.1.mlp.c_proj.weight', 'visual.transformer.resblocks.1.mlp.c_proj.bias', 'visual.transformer.resblocks.1.ln_2.weight', 'visual.transformer.resblocks.1.ln_2.bias', 'visual.transformer.resblocks.2.attn.in_proj_weight', 'visual.transformer.resblocks.2.attn.in_proj_bias', 'visual.transformer.resblocks.2.attn.out_proj.weight', 'visual.transformer.resblocks.2.attn.out_proj.bias', 'visual.transformer.resblocks.2.ln_1.weight', 'visual.transformer.resblocks.2.ln_1.bias', 'visual.transformer.resblocks.2.mlp.c_fc.weight', 'visual.transformer.resblocks.2.mlp.c_fc.bias', 'visual.transformer.resblocks.2.mlp.c_proj.weight', 'visual.transformer.resblocks.2.mlp.c_proj.bias', 'visual.transformer.resblocks.2.ln_2.weight', 'visual.transformer.resblocks.2.ln_2.bias', 'visual.transformer.resblocks.3.attn.in_proj_weight', 'visual.transformer.resblocks.3.attn.in_proj_bias', 'visual.transformer.resblocks.3.attn.out_proj.weight', 'visual.transformer.resblocks.3.attn.out_proj.bias', 'visual.transformer.resblocks.3.ln_1.weight', 'visual.transformer.resblocks.3.ln_1.bias', 'visual.transformer.resblocks.3.mlp.c_fc.weight', 'visual.transformer.resblocks.3.mlp.c_fc.bias', 'visual.transformer.resblocks.3.mlp.c_proj.weight', 'visual.transformer.resblocks.3.mlp.c_proj.bias', 'visual.transformer.resblocks.3.ln_2.weight', 'visual.transformer.resblocks.3.ln_2.bias', 'visual.transformer.resblocks.4.attn.in_proj_weight', 'visual.transformer.resblocks.4.attn.in_proj_bias', 'visual.transformer.resblocks.4.attn.out_proj.weight', 'visual.transformer.resblocks.4.attn.out_proj.bias', 'visual.transformer.resblocks.4.ln_1.weight', 'visual.transformer.resblocks.4.ln_1.bias', 'visual.transformer.resblocks.4.mlp.c_fc.weight', 'visual.transformer.resblocks.4.mlp.c_fc.bias', 'visual.transformer.resblocks.4.mlp.c_proj.weight', 'visual.transformer.resblocks.4.mlp.c_proj.bias', 'visual.transformer.resblocks.4.ln_2.weight', 'visual.transformer.resblocks.4.ln_2.bias', 'visual.transformer.resblocks.5.attn.in_proj_weight', 'visual.transformer.resblocks.5.attn.in_proj_bias', 'visual.transformer.resblocks.5.attn.out_proj.weight', 'visual.transformer.resblocks.5.attn.out_proj.bias', 'visual.transformer.resblocks.5.ln_1.weight', 'visual.transformer.resblocks.5.ln_1.bias', 'visual.transformer.resblocks.5.mlp.c_fc.weight', 'visual.transformer.resblocks.5.mlp.c_fc.bias', 'visual.transformer.resblocks.5.mlp.c_proj.weight', 'visual.transformer.resblocks.5.mlp.c_proj.bias', 'visual.transformer.resblocks.5.ln_2.weight', 'visual.transformer.resblocks.5.ln_2.bias', 'visual.transformer.resblocks.6.attn.in_proj_weight', 'visual.transformer.resblocks.6.attn.in_proj_bias', 'visual.transformer.resblocks.6.attn.out_proj.weight', 'visual.transformer.resblocks.6.attn.out_proj.bias', 'visual.transformer.resblocks.6.ln_1.weight', 'visual.transformer.resblocks.6.ln_1.bias', 'visual.transformer.resblocks.6.mlp.c_fc.weight', 'visual.transformer.resblocks.6.mlp.c_fc.bias', 'visual.transformer.resblocks.6.mlp.c_proj.weight', 'visual.transformer.resblocks.6.mlp.c_proj.bias', 'visual.transformer.resblocks.6.ln_2.weight', 'visual.transformer.resblocks.6.ln_2.bias', 'visual.transformer.resblocks.7.attn.in_proj_weight', 'visual.transformer.resblocks.7.attn.in_proj_bias', 'visual.transformer.resblocks.7.attn.out_proj.weight', 'visual.transformer.resblocks.7.attn.out_proj.bias', 'visual.transformer.resblocks.7.ln_1.weight', 'visual.transformer.resblocks.7.ln_1.bias', 'visual.transformer.resblocks.7.mlp.c_fc.weight', 'visual.transformer.resblocks.7.mlp.c_fc.bias', 'visual.transformer.resblocks.7.mlp.c_proj.weight', 'visual.transformer.resblocks.7.mlp.c_proj.bias', 'visual.transformer.resblocks.7.ln_2.weight', 'visual.transformer.resblocks.7.ln_2.bias', 'visual.transformer.resblocks.8.attn.in_proj_weight', 'visual.transformer.resblocks.8.attn.in_proj_bias', 'visual.transformer.resblocks.8.attn.out_proj.weight', 'visual.transformer.resblocks.8.attn.out_proj.bias', 'visual.transformer.resblocks.8.ln_1.weight', 'visual.transformer.resblocks.8.ln_1.bias', 'visual.transformer.resblocks.8.mlp.c_fc.weight', 'visual.transformer.resblocks.8.mlp.c_fc.bias', 'visual.transformer.resblocks.8.mlp.c_proj.weight', 'visual.transformer.resblocks.8.mlp.c_proj.bias', 'visual.transformer.resblocks.8.ln_2.weight', 'visual.transformer.resblocks.8.ln_2.bias', 'visual.transformer.resblocks.9.attn.in_proj_weight', 'visual.transformer.resblocks.9.attn.in_proj_bias', 'visual.transformer.resblocks.9.attn.out_proj.weight', 'visual.transformer.resblocks.9.attn.out_proj.bias', 'visual.transformer.resblocks.9.ln_1.weight', 'visual.transformer.resblocks.9.ln_1.bias', 'visual.transformer.resblocks.9.mlp.c_fc.weight', 'visual.transformer.resblocks.9.mlp.c_fc.bias', 'visual.transformer.resblocks.9.mlp.c_proj.weight', 'visual.transformer.resblocks.9.mlp.c_proj.bias', 'visual.transformer.resblocks.9.ln_2.weight', 'visual.transformer.resblocks.9.ln_2.bias', 'visual.transformer.resblocks.10.attn.in_proj_weight', 'visual.transformer.resblocks.10.attn.in_proj_bias', 'visual.transformer.resblocks.10.attn.out_proj.weight', 'visual.transformer.resblocks.10.attn.out_proj.bias', 'visual.transformer.resblocks.10.ln_1.weight', 'visual.transformer.resblocks.10.ln_1.bias', 'visual.transformer.resblocks.10.mlp.c_fc.weight', 'visual.transformer.resblocks.10.mlp.c_fc.bias', 'visual.transformer.resblocks.10.mlp.c_proj.weight', 'visual.transformer.resblocks.10.mlp.c_proj.bias', 'visual.transformer.resblocks.10.ln_2.weight', 'visual.transformer.resblocks.10.ln_2.bias', 'visual.transformer.resblocks.11.attn.in_proj_weight', 'visual.transformer.resblocks.11.attn.in_proj_bias', 'visual.transformer.resblocks.11.attn.out_proj.weight', 'visual.transformer.resblocks.11.attn.out_proj.bias', 'visual.transformer.resblocks.11.ln_1.weight', 'visual.transformer.resblocks.11.ln_1.bias', 'visual.transformer.resblocks.11.mlp.c_fc.weight', 'visual.transformer.resblocks.11.mlp.c_fc.bias', 'visual.transformer.resblocks.11.mlp.c_proj.weight', 'visual.transformer.resblocks.11.mlp.c_proj.bias', 'visual.transformer.resblocks.11.ln_2.weight', 'visual.transformer.resblocks.11.ln_2.bias', 'visual.ln_post.weight', 'visual.ln_post.bias'])\n"
     ]
    }
   ],
   "source": [
    "\n",
    "embed_model, _ = load(None, 'ViT-B/16', \n",
    "                         device=\"cpu\", jit=False, \n",
    "                         T=384, logger=logger\n",
    "                        )"
   ]
  },
  {
   "cell_type": "code",
   "execution_count": 403,
   "metadata": {},
   "outputs": [
    {
     "data": {
      "text/plain": [
       "odict_keys(['class_embedding', 'positional_embedding', 'proj', 'conv1.weight', 'ln_pre.weight', 'ln_pre.bias', 'transformer.resblocks.0.message_fc.weight', 'transformer.resblocks.0.message_fc.bias', 'transformer.resblocks.0.message_ln.weight', 'transformer.resblocks.0.message_ln.bias', 'transformer.resblocks.0.message_attn.in_proj_weight', 'transformer.resblocks.0.message_attn.in_proj_bias', 'transformer.resblocks.0.message_attn.out_proj.weight', 'transformer.resblocks.0.message_attn.out_proj.bias', 'transformer.resblocks.0.attn.in_proj_weight', 'transformer.resblocks.0.attn.in_proj_bias', 'transformer.resblocks.0.attn.out_proj.weight', 'transformer.resblocks.0.attn.out_proj.bias', 'transformer.resblocks.0.ln_1.weight', 'transformer.resblocks.0.ln_1.bias', 'transformer.resblocks.0.mlp.c_fc.weight', 'transformer.resblocks.0.mlp.c_fc.bias', 'transformer.resblocks.0.mlp.c_proj.weight', 'transformer.resblocks.0.mlp.c_proj.bias', 'transformer.resblocks.0.ln_2.weight', 'transformer.resblocks.0.ln_2.bias', 'transformer.resblocks.1.message_fc.weight', 'transformer.resblocks.1.message_fc.bias', 'transformer.resblocks.1.message_ln.weight', 'transformer.resblocks.1.message_ln.bias', 'transformer.resblocks.1.message_attn.in_proj_weight', 'transformer.resblocks.1.message_attn.in_proj_bias', 'transformer.resblocks.1.message_attn.out_proj.weight', 'transformer.resblocks.1.message_attn.out_proj.bias', 'transformer.resblocks.1.attn.in_proj_weight', 'transformer.resblocks.1.attn.in_proj_bias', 'transformer.resblocks.1.attn.out_proj.weight', 'transformer.resblocks.1.attn.out_proj.bias', 'transformer.resblocks.1.ln_1.weight', 'transformer.resblocks.1.ln_1.bias', 'transformer.resblocks.1.mlp.c_fc.weight', 'transformer.resblocks.1.mlp.c_fc.bias', 'transformer.resblocks.1.mlp.c_proj.weight', 'transformer.resblocks.1.mlp.c_proj.bias', 'transformer.resblocks.1.ln_2.weight', 'transformer.resblocks.1.ln_2.bias', 'transformer.resblocks.2.message_fc.weight', 'transformer.resblocks.2.message_fc.bias', 'transformer.resblocks.2.message_ln.weight', 'transformer.resblocks.2.message_ln.bias', 'transformer.resblocks.2.message_attn.in_proj_weight', 'transformer.resblocks.2.message_attn.in_proj_bias', 'transformer.resblocks.2.message_attn.out_proj.weight', 'transformer.resblocks.2.message_attn.out_proj.bias', 'transformer.resblocks.2.attn.in_proj_weight', 'transformer.resblocks.2.attn.in_proj_bias', 'transformer.resblocks.2.attn.out_proj.weight', 'transformer.resblocks.2.attn.out_proj.bias', 'transformer.resblocks.2.ln_1.weight', 'transformer.resblocks.2.ln_1.bias', 'transformer.resblocks.2.mlp.c_fc.weight', 'transformer.resblocks.2.mlp.c_fc.bias', 'transformer.resblocks.2.mlp.c_proj.weight', 'transformer.resblocks.2.mlp.c_proj.bias', 'transformer.resblocks.2.ln_2.weight', 'transformer.resblocks.2.ln_2.bias', 'transformer.resblocks.3.message_fc.weight', 'transformer.resblocks.3.message_fc.bias', 'transformer.resblocks.3.message_ln.weight', 'transformer.resblocks.3.message_ln.bias', 'transformer.resblocks.3.message_attn.in_proj_weight', 'transformer.resblocks.3.message_attn.in_proj_bias', 'transformer.resblocks.3.message_attn.out_proj.weight', 'transformer.resblocks.3.message_attn.out_proj.bias', 'transformer.resblocks.3.attn.in_proj_weight', 'transformer.resblocks.3.attn.in_proj_bias', 'transformer.resblocks.3.attn.out_proj.weight', 'transformer.resblocks.3.attn.out_proj.bias', 'transformer.resblocks.3.ln_1.weight', 'transformer.resblocks.3.ln_1.bias', 'transformer.resblocks.3.mlp.c_fc.weight', 'transformer.resblocks.3.mlp.c_fc.bias', 'transformer.resblocks.3.mlp.c_proj.weight', 'transformer.resblocks.3.mlp.c_proj.bias', 'transformer.resblocks.3.ln_2.weight', 'transformer.resblocks.3.ln_2.bias', 'transformer.resblocks.4.message_fc.weight', 'transformer.resblocks.4.message_fc.bias', 'transformer.resblocks.4.message_ln.weight', 'transformer.resblocks.4.message_ln.bias', 'transformer.resblocks.4.message_attn.in_proj_weight', 'transformer.resblocks.4.message_attn.in_proj_bias', 'transformer.resblocks.4.message_attn.out_proj.weight', 'transformer.resblocks.4.message_attn.out_proj.bias', 'transformer.resblocks.4.attn.in_proj_weight', 'transformer.resblocks.4.attn.in_proj_bias', 'transformer.resblocks.4.attn.out_proj.weight', 'transformer.resblocks.4.attn.out_proj.bias', 'transformer.resblocks.4.ln_1.weight', 'transformer.resblocks.4.ln_1.bias', 'transformer.resblocks.4.mlp.c_fc.weight', 'transformer.resblocks.4.mlp.c_fc.bias', 'transformer.resblocks.4.mlp.c_proj.weight', 'transformer.resblocks.4.mlp.c_proj.bias', 'transformer.resblocks.4.ln_2.weight', 'transformer.resblocks.4.ln_2.bias', 'transformer.resblocks.5.message_fc.weight', 'transformer.resblocks.5.message_fc.bias', 'transformer.resblocks.5.message_ln.weight', 'transformer.resblocks.5.message_ln.bias', 'transformer.resblocks.5.message_attn.in_proj_weight', 'transformer.resblocks.5.message_attn.in_proj_bias', 'transformer.resblocks.5.message_attn.out_proj.weight', 'transformer.resblocks.5.message_attn.out_proj.bias', 'transformer.resblocks.5.attn.in_proj_weight', 'transformer.resblocks.5.attn.in_proj_bias', 'transformer.resblocks.5.attn.out_proj.weight', 'transformer.resblocks.5.attn.out_proj.bias', 'transformer.resblocks.5.ln_1.weight', 'transformer.resblocks.5.ln_1.bias', 'transformer.resblocks.5.mlp.c_fc.weight', 'transformer.resblocks.5.mlp.c_fc.bias', 'transformer.resblocks.5.mlp.c_proj.weight', 'transformer.resblocks.5.mlp.c_proj.bias', 'transformer.resblocks.5.ln_2.weight', 'transformer.resblocks.5.ln_2.bias', 'transformer.resblocks.6.message_fc.weight', 'transformer.resblocks.6.message_fc.bias', 'transformer.resblocks.6.message_ln.weight', 'transformer.resblocks.6.message_ln.bias', 'transformer.resblocks.6.message_attn.in_proj_weight', 'transformer.resblocks.6.message_attn.in_proj_bias', 'transformer.resblocks.6.message_attn.out_proj.weight', 'transformer.resblocks.6.message_attn.out_proj.bias', 'transformer.resblocks.6.attn.in_proj_weight', 'transformer.resblocks.6.attn.in_proj_bias', 'transformer.resblocks.6.attn.out_proj.weight', 'transformer.resblocks.6.attn.out_proj.bias', 'transformer.resblocks.6.ln_1.weight', 'transformer.resblocks.6.ln_1.bias', 'transformer.resblocks.6.mlp.c_fc.weight', 'transformer.resblocks.6.mlp.c_fc.bias', 'transformer.resblocks.6.mlp.c_proj.weight', 'transformer.resblocks.6.mlp.c_proj.bias', 'transformer.resblocks.6.ln_2.weight', 'transformer.resblocks.6.ln_2.bias', 'transformer.resblocks.7.message_fc.weight', 'transformer.resblocks.7.message_fc.bias', 'transformer.resblocks.7.message_ln.weight', 'transformer.resblocks.7.message_ln.bias', 'transformer.resblocks.7.message_attn.in_proj_weight', 'transformer.resblocks.7.message_attn.in_proj_bias', 'transformer.resblocks.7.message_attn.out_proj.weight', 'transformer.resblocks.7.message_attn.out_proj.bias', 'transformer.resblocks.7.attn.in_proj_weight', 'transformer.resblocks.7.attn.in_proj_bias', 'transformer.resblocks.7.attn.out_proj.weight', 'transformer.resblocks.7.attn.out_proj.bias', 'transformer.resblocks.7.ln_1.weight', 'transformer.resblocks.7.ln_1.bias', 'transformer.resblocks.7.mlp.c_fc.weight', 'transformer.resblocks.7.mlp.c_fc.bias', 'transformer.resblocks.7.mlp.c_proj.weight', 'transformer.resblocks.7.mlp.c_proj.bias', 'transformer.resblocks.7.ln_2.weight', 'transformer.resblocks.7.ln_2.bias', 'transformer.resblocks.8.message_fc.weight', 'transformer.resblocks.8.message_fc.bias', 'transformer.resblocks.8.message_ln.weight', 'transformer.resblocks.8.message_ln.bias', 'transformer.resblocks.8.message_attn.in_proj_weight', 'transformer.resblocks.8.message_attn.in_proj_bias', 'transformer.resblocks.8.message_attn.out_proj.weight', 'transformer.resblocks.8.message_attn.out_proj.bias', 'transformer.resblocks.8.attn.in_proj_weight', 'transformer.resblocks.8.attn.in_proj_bias', 'transformer.resblocks.8.attn.out_proj.weight', 'transformer.resblocks.8.attn.out_proj.bias', 'transformer.resblocks.8.ln_1.weight', 'transformer.resblocks.8.ln_1.bias', 'transformer.resblocks.8.mlp.c_fc.weight', 'transformer.resblocks.8.mlp.c_fc.bias', 'transformer.resblocks.8.mlp.c_proj.weight', 'transformer.resblocks.8.mlp.c_proj.bias', 'transformer.resblocks.8.ln_2.weight', 'transformer.resblocks.8.ln_2.bias', 'transformer.resblocks.9.message_fc.weight', 'transformer.resblocks.9.message_fc.bias', 'transformer.resblocks.9.message_ln.weight', 'transformer.resblocks.9.message_ln.bias', 'transformer.resblocks.9.message_attn.in_proj_weight', 'transformer.resblocks.9.message_attn.in_proj_bias', 'transformer.resblocks.9.message_attn.out_proj.weight', 'transformer.resblocks.9.message_attn.out_proj.bias', 'transformer.resblocks.9.attn.in_proj_weight', 'transformer.resblocks.9.attn.in_proj_bias', 'transformer.resblocks.9.attn.out_proj.weight', 'transformer.resblocks.9.attn.out_proj.bias', 'transformer.resblocks.9.ln_1.weight', 'transformer.resblocks.9.ln_1.bias', 'transformer.resblocks.9.mlp.c_fc.weight', 'transformer.resblocks.9.mlp.c_fc.bias', 'transformer.resblocks.9.mlp.c_proj.weight', 'transformer.resblocks.9.mlp.c_proj.bias', 'transformer.resblocks.9.ln_2.weight', 'transformer.resblocks.9.ln_2.bias', 'transformer.resblocks.10.message_fc.weight', 'transformer.resblocks.10.message_fc.bias', 'transformer.resblocks.10.message_ln.weight', 'transformer.resblocks.10.message_ln.bias', 'transformer.resblocks.10.message_attn.in_proj_weight', 'transformer.resblocks.10.message_attn.in_proj_bias', 'transformer.resblocks.10.message_attn.out_proj.weight', 'transformer.resblocks.10.message_attn.out_proj.bias', 'transformer.resblocks.10.attn.in_proj_weight', 'transformer.resblocks.10.attn.in_proj_bias', 'transformer.resblocks.10.attn.out_proj.weight', 'transformer.resblocks.10.attn.out_proj.bias', 'transformer.resblocks.10.ln_1.weight', 'transformer.resblocks.10.ln_1.bias', 'transformer.resblocks.10.mlp.c_fc.weight', 'transformer.resblocks.10.mlp.c_fc.bias', 'transformer.resblocks.10.mlp.c_proj.weight', 'transformer.resblocks.10.mlp.c_proj.bias', 'transformer.resblocks.10.ln_2.weight', 'transformer.resblocks.10.ln_2.bias', 'transformer.resblocks.11.message_fc.weight', 'transformer.resblocks.11.message_fc.bias', 'transformer.resblocks.11.message_ln.weight', 'transformer.resblocks.11.message_ln.bias', 'transformer.resblocks.11.message_attn.in_proj_weight', 'transformer.resblocks.11.message_attn.in_proj_bias', 'transformer.resblocks.11.message_attn.out_proj.weight', 'transformer.resblocks.11.message_attn.out_proj.bias', 'transformer.resblocks.11.attn.in_proj_weight', 'transformer.resblocks.11.attn.in_proj_bias', 'transformer.resblocks.11.attn.out_proj.weight', 'transformer.resblocks.11.attn.out_proj.bias', 'transformer.resblocks.11.ln_1.weight', 'transformer.resblocks.11.ln_1.bias', 'transformer.resblocks.11.mlp.c_fc.weight', 'transformer.resblocks.11.mlp.c_fc.bias', 'transformer.resblocks.11.mlp.c_proj.weight', 'transformer.resblocks.11.mlp.c_proj.bias', 'transformer.resblocks.11.ln_2.weight', 'transformer.resblocks.11.ln_2.bias', 'ln_post.weight', 'ln_post.bias', 'mit.positional_embedding', 'mit.resblocks.0.attn.in_proj_weight', 'mit.resblocks.0.attn.in_proj_bias', 'mit.resblocks.0.attn.out_proj.weight', 'mit.resblocks.0.attn.out_proj.bias', 'mit.resblocks.0.ln_1.weight', 'mit.resblocks.0.ln_1.bias', 'mit.resblocks.0.mlp.c_fc.weight', 'mit.resblocks.0.mlp.c_fc.bias', 'mit.resblocks.0.mlp.c_proj.weight', 'mit.resblocks.0.mlp.c_proj.bias', 'mit.resblocks.0.ln_2.weight', 'mit.resblocks.0.ln_2.bias', 'mit.resblocks.1.attn.in_proj_weight', 'mit.resblocks.1.attn.in_proj_bias', 'mit.resblocks.1.attn.out_proj.weight', 'mit.resblocks.1.attn.out_proj.bias', 'mit.resblocks.1.ln_1.weight', 'mit.resblocks.1.ln_1.bias', 'mit.resblocks.1.mlp.c_fc.weight', 'mit.resblocks.1.mlp.c_fc.bias', 'mit.resblocks.1.mlp.c_proj.weight', 'mit.resblocks.1.mlp.c_proj.bias', 'mit.resblocks.1.ln_2.weight', 'mit.resblocks.1.ln_2.bias', 'mit.resblocks.2.attn.in_proj_weight', 'mit.resblocks.2.attn.in_proj_bias', 'mit.resblocks.2.attn.out_proj.weight', 'mit.resblocks.2.attn.out_proj.bias', 'mit.resblocks.2.ln_1.weight', 'mit.resblocks.2.ln_1.bias', 'mit.resblocks.2.mlp.c_fc.weight', 'mit.resblocks.2.mlp.c_fc.bias', 'mit.resblocks.2.mlp.c_proj.weight', 'mit.resblocks.2.mlp.c_proj.bias', 'mit.resblocks.2.ln_2.weight', 'mit.resblocks.2.ln_2.bias', 'mit.resblocks.3.attn.in_proj_weight', 'mit.resblocks.3.attn.in_proj_bias', 'mit.resblocks.3.attn.out_proj.weight', 'mit.resblocks.3.attn.out_proj.bias', 'mit.resblocks.3.ln_1.weight', 'mit.resblocks.3.ln_1.bias', 'mit.resblocks.3.mlp.c_fc.weight', 'mit.resblocks.3.mlp.c_fc.bias', 'mit.resblocks.3.mlp.c_proj.weight', 'mit.resblocks.3.mlp.c_proj.bias', 'mit.resblocks.3.ln_2.weight', 'mit.resblocks.3.ln_2.bias'])"
      ]
     },
     "execution_count": 403,
     "metadata": {},
     "output_type": "execute_result"
    }
   ],
   "source": [
    "embed_model.state_dict().keys()"
   ]
  },
  {
   "cell_type": "code",
   "execution_count": 32,
   "metadata": {},
   "outputs": [],
   "source": [
    "train_data,train_loader = build.build_counitxdataloader(config)\n"
   ]
  },
  {
   "cell_type": "code",
   "execution_count": 33,
   "metadata": {},
   "outputs": [
    {
     "name": "stderr",
     "output_type": "stream",
     "text": [
      "objc[80432]: Class AVFFrameReceiver is implemented in both /Users/kanantharaman/anaconda3/lib/python3.11/site-packages/av/.dylibs/libavdevice.60.3.100.dylib (0x1445a10f8) and /Users/kanantharaman/anaconda3/lib/python3.11/site-packages/decord/.dylibs/libavdevice.58.5.100.dylib (0x15c7c5010). One of the two will be used. Which one is undefined.\n",
      "objc[80432]: Class AVFAudioReceiver is implemented in both /Users/kanantharaman/anaconda3/lib/python3.11/site-packages/av/.dylibs/libavdevice.60.3.100.dylib (0x1445a1148) and /Users/kanantharaman/anaconda3/lib/python3.11/site-packages/decord/.dylibs/libavdevice.58.5.100.dylib (0x15c7c5060). One of the two will be used. Which one is undefined.\n"
     ]
    },
    {
     "name": "stdout",
     "output_type": "stream",
     "text": [
      "11/22 20:55:25 - mmengine - \u001b[5m\u001b[4m\u001b[33mWARNING\u001b[0m - \"FileClient\" will be deprecated in future. Please use io functions in https://mmengine.readthedocs.io/en/latest/api/fileio.html#file-io\n",
      "11/22 20:55:25 - mmengine - \u001b[5m\u001b[4m\u001b[33mWARNING\u001b[0m - \"HardDiskBackend\" is the alias of \"LocalBackend\" and the former will be deprecated in future.\n",
      "dict_keys(['imgs', 'label', 'start', 'end', 'count'])\n",
      "torch.Size([4, 384, 3, 224, 224])\n"
     ]
    }
   ],
   "source": [
    "for idx, batch_data in enumerate(train_loader):\n",
    "     print(batch_data.keys())\n",
    "     images = batch_data[\"imgs\"]\n",
    "     #b,t,c,h,w = images.size()\n",
    "     #images = images.reshape(-1,c,h,w)\n",
    "     print(images.shape)"
   ]
  },
  {
   "cell_type": "code",
   "execution_count": 53,
   "metadata": {},
   "outputs": [],
   "source": [
    "fourcc = cv2.VideoWriter_fourcc(*'mp4v')  # Use MP4V codec\n",
    "video = cv2.VideoWriter('video.mp4',fourcc, 1, (w,h))\n",
    "for image in batch_data[\"imgs\"][0]:\n",
    "    video.write(np.uint8(np.transpose(image.numpy(), (1, 2, 0))))\n"
   ]
  },
  {
   "cell_type": "code",
   "execution_count": 54,
   "metadata": {},
   "outputs": [],
   "source": [
    "video.release()"
   ]
  },
  {
   "cell_type": "code",
   "execution_count": 286,
   "metadata": {},
   "outputs": [
    {
     "data": {
      "text/plain": [
       "torch.Size([1536, 3, 224, 224])"
      ]
     },
     "execution_count": 286,
     "metadata": {},
     "output_type": "execute_result"
    }
   ],
   "source": [
    "images.size()"
   ]
  },
  {
   "cell_type": "code",
   "execution_count": 40,
   "metadata": {},
   "outputs": [
    {
     "ename": "NameError",
     "evalue": "name 'embed_model' is not defined",
     "output_type": "error",
     "traceback": [
      "\u001b[0;31m---------------------------------------------------------------------------\u001b[0m",
      "\u001b[0;31mNameError\u001b[0m                                 Traceback (most recent call last)",
      "Cell \u001b[0;32mIn[40], line 2\u001b[0m\n\u001b[1;32m      1\u001b[0m \u001b[38;5;28;01mwith\u001b[39;00m torch\u001b[38;5;241m.\u001b[39mno_grad():\n\u001b[0;32m----> 2\u001b[0m    x\u001b[38;5;241m=\u001b[39membed_model(images)\n",
      "\u001b[0;31mNameError\u001b[0m: name 'embed_model' is not defined"
     ]
    }
   ],
   "source": [
    "with torch.no_grad():\n",
    "   x=embed_model(images)"
   ]
  },
  {
   "cell_type": "code",
   "execution_count": 166,
   "metadata": {},
   "outputs": [
    {
     "data": {
      "text/plain": [
       "tensor([[[-2.2765e+00, -1.2453e+00, -1.3994e+00,  ...,  7.8184e-01,\n",
       "           2.3767e+00,  5.7451e+00],\n",
       "         [-2.2415e+00, -1.2316e+00, -1.3751e+00,  ...,  7.8824e-01,\n",
       "           2.4570e+00,  5.7667e+00],\n",
       "         [-2.2498e+00, -1.2333e+00, -1.3281e+00,  ...,  7.7489e-01,\n",
       "           2.3990e+00,  5.7160e+00],\n",
       "         ...,\n",
       "         [-1.9052e+00, -1.4399e+00, -2.6906e+00,  ...,  1.9424e-01,\n",
       "           2.7023e+00,  4.7429e+00],\n",
       "         [-1.8936e+00, -1.4266e+00, -2.7028e+00,  ...,  1.6222e-01,\n",
       "           2.6784e+00,  4.7573e+00],\n",
       "         [-1.8743e+00, -1.4172e+00, -2.6789e+00,  ...,  2.1330e-01,\n",
       "           2.7168e+00,  4.7493e+00]],\n",
       "\n",
       "        [[-2.0981e+00, -1.5501e+00, -1.4070e+00,  ...,  1.8525e+00,\n",
       "           2.3132e+00,  5.6870e+00],\n",
       "         [-2.0845e+00, -1.5436e+00, -1.3920e+00,  ...,  1.8785e+00,\n",
       "           2.4019e+00,  5.6975e+00],\n",
       "         [-2.0529e+00, -1.4832e+00, -1.2407e+00,  ...,  1.6547e+00,\n",
       "           2.4239e+00,  5.5727e+00],\n",
       "         ...,\n",
       "         [-1.9533e+00, -1.0859e+00, -7.6560e-01,  ...,  1.8427e+00,\n",
       "           2.3537e+00,  5.4428e+00],\n",
       "         [-1.9036e+00, -1.0862e+00, -7.8773e-01,  ...,  1.8267e+00,\n",
       "           2.3298e+00,  5.4361e+00],\n",
       "         [-1.9333e+00, -1.2235e+00, -8.5945e-01,  ...,  1.9590e+00,\n",
       "           2.4834e+00,  5.4941e+00]],\n",
       "\n",
       "        [[-9.8847e-01, -2.8952e-01,  1.2902e+00,  ...,  1.0537e+00,\n",
       "           8.5312e-01,  4.7071e+00],\n",
       "         [-9.5944e-01, -2.9298e-01,  1.2924e+00,  ...,  1.0762e+00,\n",
       "           9.5202e-01,  4.7351e+00],\n",
       "         [-9.4693e-01, -2.9356e-01,  1.3214e+00,  ...,  1.0914e+00,\n",
       "           9.0629e-01,  4.7213e+00],\n",
       "         ...,\n",
       "         [-1.8618e+00, -1.4376e+00, -2.6250e+00,  ..., -1.6901e-01,\n",
       "           3.1114e+00,  4.2777e+00],\n",
       "         [-1.8497e+00, -1.4253e+00, -2.6399e+00,  ..., -2.0195e-01,\n",
       "           3.0912e+00,  4.2908e+00],\n",
       "         [-1.8314e+00, -1.4160e+00, -2.6130e+00,  ..., -1.4984e-01,\n",
       "           3.1270e+00,  4.2818e+00]],\n",
       "\n",
       "        [[-1.7851e+00, -5.2928e-01,  4.4458e-01,  ...,  8.4429e-01,\n",
       "           7.0457e-01,  4.9634e+00],\n",
       "         [-1.7519e+00, -4.9401e-01,  5.0136e-01,  ...,  8.1541e-01,\n",
       "           7.7993e-01,  5.0015e+00],\n",
       "         [-1.6883e+00, -4.4227e-01,  5.4705e-01,  ...,  7.5836e-01,\n",
       "           7.4869e-01,  4.9553e+00],\n",
       "         ...,\n",
       "         [-1.8646e+00, -1.4465e+00, -2.6701e+00,  ...,  2.1068e-03,\n",
       "           2.8552e+00,  4.5635e+00],\n",
       "         [-1.8528e+00, -1.4335e+00, -2.6836e+00,  ..., -3.0210e-02,\n",
       "           2.8328e+00,  4.5772e+00],\n",
       "         [-1.8344e+00, -1.4247e+00, -2.6579e+00,  ...,  2.1021e-02,\n",
       "           2.8701e+00,  4.5686e+00]]])"
      ]
     },
     "execution_count": 166,
     "metadata": {},
     "output_type": "execute_result"
    }
   ],
   "source": [
    "x[0]"
   ]
  },
  {
   "cell_type": "code",
   "execution_count": 221,
   "metadata": {},
   "outputs": [],
   "source": [
    "cls_features = x[0]#.view(b, t, -1)\n"
   ]
  },
  {
   "cell_type": "code",
   "execution_count": 187,
   "metadata": {},
   "outputs": [
    {
     "data": {
      "text/plain": [
       "torch.Size([1, 208, 512])"
      ]
     },
     "execution_count": 187,
     "metadata": {},
     "output_type": "execute_result"
    }
   ],
   "source": [
    "x[1].mean(2).shape"
   ]
  },
  {
   "cell_type": "code",
   "execution_count": 222,
   "metadata": {},
   "outputs": [],
   "source": [
    "img_features = x[1]"
   ]
  },
  {
   "cell_type": "code",
   "execution_count": 223,
   "metadata": {},
   "outputs": [
    {
     "data": {
      "text/plain": [
       "(torch.Size([4, 384, 512]), torch.Size([4, 384, 512]))"
      ]
     },
     "execution_count": 223,
     "metadata": {},
     "output_type": "execute_result"
    }
   ],
   "source": [
    "img_features.shape,cls_features.shape"
   ]
  },
  {
   "cell_type": "code",
   "execution_count": 90,
   "metadata": {},
   "outputs": [],
   "source": [
    "def plot_heatmap(dist: np.ndarray, log_scale: bool = False) -> np.ndarray:\n",
    "    \"\"\"Plot the temporal self-similarity matrix into an OpenCV image.\"\"\"\n",
    "    np.fill_diagonal(dist, np.nan)\n",
    "    if log_scale:\n",
    "        dist = np.log(1 + dist)\n",
    "    dist = -dist # Invert the distance\n",
    "    zmin, zmax = np.nanmin(dist), np.nanmax(dist)\n",
    "    heatmap = (dist - zmin) / (zmax - zmin) # Normalize into [0, 1]\n",
    "    heatmap = np.nan_to_num(heatmap, nan=1)\n",
    "    heatmap = np.clip(heatmap * 255, 0, 255).astype(np.uint8)\n",
    "    heatmap = cv2.applyColorMap(heatmap, cv2.COLORMAP_VIRIDIS)\n",
    "    return heatmap"
   ]
  },
  {
   "cell_type": "code",
   "execution_count": 76,
   "metadata": {},
   "outputs": [
    {
     "name": "stdout",
     "output_type": "stream",
     "text": [
      "\u001b[32m[2024-11-15 21:55:56 matplotlib]\u001b[0m\u001b[33m(__init__.py 305)\u001b[0m: DEBUG matplotlib data path: /Users/kanantharaman/anaconda3/lib/python3.11/site-packages/matplotlib/mpl-data\n",
      "\u001b[32m[2024-11-15 21:55:56 matplotlib]\u001b[0m\u001b[33m(__init__.py 305)\u001b[0m: DEBUG CONFIGDIR=/Users/kanantharaman/.matplotlib\n",
      "\u001b[32m[2024-11-15 21:55:56 matplotlib]\u001b[0m\u001b[33m(__init__.py 1479)\u001b[0m: DEBUG interactive is False\n",
      "\u001b[32m[2024-11-15 21:55:56 matplotlib]\u001b[0m\u001b[33m(__init__.py 1480)\u001b[0m: DEBUG platform is darwin\n",
      "\u001b[32m[2024-11-15 21:55:56 matplotlib]\u001b[0m\u001b[33m(__init__.py 305)\u001b[0m: DEBUG CACHEDIR=/Users/kanantharaman/.matplotlib\n",
      "\u001b[32m[2024-11-15 21:55:56 matplotlib.font_manager]\u001b[0m\u001b[33m(font_manager.py 1543)\u001b[0m: DEBUG Using fontManager instance from /Users/kanantharaman/.matplotlib/fontlist-v330.json\n"
     ]
    }
   ],
   "source": [
    "import matplotlib.pyplot as plt\n"
   ]
  },
  {
   "cell_type": "code",
   "execution_count": 124,
   "metadata": {},
   "outputs": [
    {
     "data": {
      "text/plain": [
       "torch.Size([1, 208, 512])"
      ]
     },
     "execution_count": 124,
     "metadata": {},
     "output_type": "execute_result"
    }
   ],
   "source": [
    "cls_features.shape"
   ]
  },
  {
   "cell_type": "code",
   "execution_count": 193,
   "metadata": {},
   "outputs": [
    {
     "name": "stderr",
     "output_type": "stream",
     "text": [
      "/var/folders/fn/gqsn1b5x75x3nstgrhp06xtw0000gp/T/ipykernel_2231/3725310736.py:5: RuntimeWarning: invalid value encountered in log\n",
      "  dist = np.log(1 + dist)\n"
     ]
    }
   ],
   "source": [
    "\n",
    "for idx in range(img_features.shape[0]):\n",
    "    dist = torch.cdist(img_features[0], img_features[0], p=2)**2\n",
    "    heatmap = plot_heatmap(dist.numpy(), log_scale=True)\n",
    "    cv2.imwrite(f'heatmap_{idx}_{idx}.png', heatmap) "
   ]
  },
  {
   "cell_type": "code",
   "execution_count": 130,
   "metadata": {},
   "outputs": [
    {
     "name": "stdout",
     "output_type": "stream",
     "text": [
      "torch.Size([3, 64, 512])\n",
      "torch.Size([1, 64, 512])\n",
      "torch.Size([1, 64, 512])\n"
     ]
    },
    {
     "name": "stderr",
     "output_type": "stream",
     "text": [
      "/var/folders/fn/gqsn1b5x75x3nstgrhp06xtw0000gp/T/ipykernel_2231/3725310736.py:5: RuntimeWarning: invalid value encountered in log\n",
      "  dist = np.log(1 + dist)\n"
     ]
    }
   ],
   "source": [
    "for stride in [1,2,3]:\n",
    "        # Apply stride\n",
    "        stride_frames = cls_features[0][::stride]\n",
    "        stride_frames = stride_frames[:(len(stride_frames) // 64) * 64]\n",
    "        if len(stride_frames) < 64:\n",
    "            continue # Skip this stride if there are not enough frames\n",
    "        stride_frames = stride_frames.unflatten(0, (-1, 64))#torch.stack(stride_frames, axis=0)#.unflatten(0, (-1, 64))#.movedim(1, 2) # Convert to N x C x D x H x W\n",
    "        #stride_frames = stride_frames.to('cpu')\n",
    "        print(stride_frames.shape)\n",
    "        dist = torch.cdist(stride_frames[0], stride_frames[0], p=2)**2\n",
    "        heatmap = plot_heatmap(dist.numpy(), log_scale=True)\n",
    "        cv2.imwrite(f'heatmap_{stride}_{stride}.png', heatmap) \n",
    "\n",
    "        "
   ]
  },
  {
   "cell_type": "code",
   "execution_count": 194,
   "metadata": {},
   "outputs": [
    {
     "data": {
      "text/plain": [
       "tensor([    nan,  0.1632,  0.7565,  1.7438,  1.9504,  1.8161,  1.7377,  1.8566,\n",
       "         1.9492,  1.7738,  1.7761,  2.1161,  2.7009,  3.0806,  2.8743,  3.0161,\n",
       "         3.3779,  4.2877,  4.7708,  5.5370,  6.2142,  5.8301,  5.9904,  6.2961,\n",
       "         6.6460,  6.7192,  6.9608,  6.7581,  6.8010,  7.0072,  6.8008,  6.2865,\n",
       "         5.9488,  5.7946,  5.2332,  3.8308,  3.8713,  3.8520, 14.3538, 25.8715,\n",
       "        40.6224, 51.5117, 55.7323, 55.4244, 55.3719, 55.4552, 57.2446, 59.0547,\n",
       "        58.1478, 55.3545, 55.2127, 56.7046, 57.1954, 57.5956, 57.3120, 57.0352,\n",
       "        57.4644, 57.2699, 57.8301, 57.7430, 58.0325, 57.8942, 57.9166, 58.3951,\n",
       "        58.5359, 58.4131, 58.6245, 58.4574, 58.4106, 58.4121, 58.1204, 57.8090,\n",
       "        58.2526, 57.8809, 57.9353, 58.0265, 58.1120, 57.9298, 57.9554, 58.6762,\n",
       "        58.9409, 59.7615, 59.9681, 58.8786, 57.2173, 55.2582, 55.1056, 57.2741,\n",
       "        57.5580, 56.6492, 55.2717, 55.2208, 56.1625, 56.3169, 56.3218, 53.2290,\n",
       "        51.5580, 49.1340, 49.5435, 48.7004, 48.4465, 48.7366, 48.5267, 47.2544,\n",
       "        47.5419, 46.6687, 46.4420, 46.7998, 47.0730, 46.6992, 24.5136, 23.5052,\n",
       "        23.5160, 23.2493, 21.9932, 20.7628, 20.8024, 21.2986, 20.7936, 19.8709,\n",
       "        19.1975, 19.0790, 19.6032, 18.6563, 18.0687, 16.8424, 16.9544, 16.2253,\n",
       "        15.6648, 15.5265, 15.6433, 15.3829, 15.3619, 15.4301, 15.4575, 15.7068,\n",
       "        16.0471, 15.9860, 16.3080, 16.3497, 16.3059, 16.1671, 16.1423, 16.3605,\n",
       "        16.3843, 16.4464,  0.3599,  3.7339,  8.7190, 11.9927, 13.3262, 13.0114,\n",
       "        13.0103, 12.8765, 12.8311, 12.6421, 12.7523, 12.6893, 12.7612, 12.4157,\n",
       "        12.7927, 13.4270, 14.2957, 13.5694, 12.4510, 12.0457, 11.5724, 12.5212,\n",
       "        12.5860, 12.0015, 12.0668, 13.0823, 13.8766, 13.8351, 14.0191, 12.4803,\n",
       "        12.7492, 12.3647, 12.6426, 12.8204, 12.9075, 12.4901, 12.5348, 12.3017,\n",
       "        12.9445, 12.5615, 12.4497, 12.5956, 12.6051, 12.4418, 11.9495, 12.1252,\n",
       "        12.5527, 12.5332, 12.2903, 12.1154, 12.4053, 13.1556, 13.3882, 12.8691,\n",
       "        11.9755, 12.6090, 13.5800,  2.1061,  1.7790,  1.5350,  1.5270,  0.8178])"
      ]
     },
     "execution_count": 194,
     "metadata": {},
     "output_type": "execute_result"
    }
   ],
   "source": [
    "dist[0]"
   ]
  },
  {
   "cell_type": "code",
   "execution_count": 267,
   "metadata": {},
   "outputs": [],
   "source": [
    "dist = torch.cdist(img_features[1],img_features[1], p=2)**2\n",
    "dist1 = torch.cdist(cls_features[1],cls_features[1], p=2)**2\n",
    "dist = np.log(1 + dist)\n",
    "dist1= np.log(1 + dist1)"
   ]
  },
  {
   "cell_type": "code",
   "execution_count": 268,
   "metadata": {},
   "outputs": [
    {
     "data": {
      "text/plain": [
       "[<matplotlib.lines.Line2D at 0x166bbc3d0>]"
      ]
     },
     "execution_count": 268,
     "metadata": {},
     "output_type": "execute_result"
    },
    {
     "data": {
      "image/png": "[encoded data removed]",
      "text/plain": [
       "<Figure size 640x480 with 1 Axes>"
      ]
     },
     "metadata": {},
     "output_type": "display_data"
    }
   ],
   "source": [
    "\n",
    "plt.plot(dist[0])\n",
    "plt.plot(dist1[0])"
   ]
  },
  {
   "cell_type": "code",
   "execution_count": 109,
   "metadata": {},
   "outputs": [
    {
     "data": {
      "text/plain": [
       "tensor([     nan,  74.2485, 177.2854, 111.9316, 101.1504, 143.2295, 182.2933,\n",
       "        158.6210, 197.0994, 196.0265, 144.1377, 179.1146, 141.7727, 422.6034,\n",
       "        443.6486, 423.5782, 437.3733, 373.1923, 385.3989, 385.5234, 354.0729,\n",
       "        371.5658, 420.5601, 457.0677, 480.3051, 435.4335, 406.0033, 232.5043,\n",
       "        299.3757, 364.9122, 423.5060, 355.9371, 385.8215, 292.4618, 324.1901,\n",
       "        340.3060, 348.9471, 291.9451, 317.7900, 249.3714, 253.9508, 288.0504,\n",
       "        225.1104, 206.3092, 190.8108, 184.0070, 190.1059, 179.5063, 177.4777,\n",
       "        103.4275, 177.0527, 188.4703, 166.8807, 146.5547, 216.6829, 254.4276,\n",
       "        277.3436, 227.4249, 240.0393, 261.8093, 291.8750, 262.4724, 282.4844,\n",
       "        275.5892, 292.1647, 250.2932, 245.3824, 261.4182, 207.5305,  49.7943,\n",
       "        906.1564, 906.1564, 906.1564, 906.1564, 906.1564, 906.1564, 906.1564,\n",
       "        906.1564, 906.1564, 906.1564, 906.1564, 906.1564, 906.1564, 906.1564,\n",
       "        906.1564, 906.1564, 906.1564, 906.1564, 906.1564, 906.1564, 906.1564,\n",
       "        906.1564, 906.1564, 906.1564, 906.1564, 906.1564, 906.1564, 906.1564,\n",
       "        906.1564, 906.1564, 906.1564, 906.1564, 906.1564, 906.1564, 906.1564,\n",
       "        906.1564, 906.1564, 906.1564, 906.1564, 906.1564, 906.1564, 906.1564,\n",
       "        906.1564, 906.1564, 906.1564, 906.1564, 906.1564, 906.1564, 906.1564,\n",
       "        906.1564, 906.1564, 906.1564, 906.1564, 906.1564, 906.1564, 906.1564,\n",
       "        906.1564, 906.1564])"
      ]
     },
     "execution_count": 109,
     "metadata": {},
     "output_type": "execute_result"
    }
   ],
   "source": [
    "dist[0,::3]"
   ]
  },
  {
   "cell_type": "code",
   "execution_count": 93,
   "metadata": {},
   "outputs": [],
   "source": [
    "import torchvision.transforms as T\n",
    "VIDEO_PATH = \"./xclip/data/Countix/bench press_29.mp4\"\n",
    "transform = T.Compose([\n",
    "        T.ToPILImage(),\n",
    "        T.Resize((224, 224)),\n",
    "        T.ToTensor(),\n",
    "        T.Normalize(mean=0.5, std=0.5),\n",
    "    ])\n",
    "cap = cv2.VideoCapture(VIDEO_PATH)\n",
    "fps = cap.get(cv2.CAP_PROP_FPS)\n",
    "raw_frames, frames = [], []\n",
    "while cap.isOpened():\n",
    "        ret, frame = cap.read()\n",
    "        if not ret or frame is None:\n",
    "            break\n",
    "        raw_frames.append(frame)\n",
    "        frame = transform(cv2.cvtColor(frame, cv2.COLOR_BGR2RGB))\n",
    "        frames.append(frame)\n",
    "cap.release()"
   ]
  },
  {
   "cell_type": "code",
   "execution_count": 94,
   "metadata": {},
   "outputs": [],
   "source": [
    "frames=torch.stack(frames, axis=0)\n"
   ]
  },
  {
   "cell_type": "code",
   "execution_count": 73,
   "metadata": {},
   "outputs": [
    {
     "name": "stdout",
     "output_type": "stream",
     "text": [
      "\u001b[32m[2024-11-15 13:33:17 root]\u001b[0m\u001b[33m(cct.py 172)\u001b[0m: INFO load pretrained CLIP: _IncompatibleKeys(missing_keys=['class_embedding', 'positional_embedding', 'proj', 'conv1.weight', 'ln_pre.weight', 'ln_pre.bias', 'transformer.resblocks.0.message_fc.weight', 'transformer.resblocks.0.message_fc.bias', 'transformer.resblocks.0.message_ln.weight', 'transformer.resblocks.0.message_ln.bias', 'transformer.resblocks.0.message_attn.in_proj_weight', 'transformer.resblocks.0.message_attn.in_proj_bias', 'transformer.resblocks.0.message_attn.out_proj.weight', 'transformer.resblocks.0.message_attn.out_proj.bias', 'transformer.resblocks.0.attn.in_proj_weight', 'transformer.resblocks.0.attn.in_proj_bias', 'transformer.resblocks.0.attn.out_proj.weight', 'transformer.resblocks.0.attn.out_proj.bias', 'transformer.resblocks.0.ln_1.weight', 'transformer.resblocks.0.ln_1.bias', 'transformer.resblocks.0.mlp.c_fc.weight', 'transformer.resblocks.0.mlp.c_fc.bias', 'transformer.resblocks.0.mlp.c_proj.weight', 'transformer.resblocks.0.mlp.c_proj.bias', 'transformer.resblocks.0.ln_2.weight', 'transformer.resblocks.0.ln_2.bias', 'transformer.resblocks.1.message_fc.weight', 'transformer.resblocks.1.message_fc.bias', 'transformer.resblocks.1.message_ln.weight', 'transformer.resblocks.1.message_ln.bias', 'transformer.resblocks.1.message_attn.in_proj_weight', 'transformer.resblocks.1.message_attn.in_proj_bias', 'transformer.resblocks.1.message_attn.out_proj.weight', 'transformer.resblocks.1.message_attn.out_proj.bias', 'transformer.resblocks.1.attn.in_proj_weight', 'transformer.resblocks.1.attn.in_proj_bias', 'transformer.resblocks.1.attn.out_proj.weight', 'transformer.resblocks.1.attn.out_proj.bias', 'transformer.resblocks.1.ln_1.weight', 'transformer.resblocks.1.ln_1.bias', 'transformer.resblocks.1.mlp.c_fc.weight', 'transformer.resblocks.1.mlp.c_fc.bias', 'transformer.resblocks.1.mlp.c_proj.weight', 'transformer.resblocks.1.mlp.c_proj.bias', 'transformer.resblocks.1.ln_2.weight', 'transformer.resblocks.1.ln_2.bias', 'transformer.resblocks.2.message_fc.weight', 'transformer.resblocks.2.message_fc.bias', 'transformer.resblocks.2.message_ln.weight', 'transformer.resblocks.2.message_ln.bias', 'transformer.resblocks.2.message_attn.in_proj_weight', 'transformer.resblocks.2.message_attn.in_proj_bias', 'transformer.resblocks.2.message_attn.out_proj.weight', 'transformer.resblocks.2.message_attn.out_proj.bias', 'transformer.resblocks.2.attn.in_proj_weight', 'transformer.resblocks.2.attn.in_proj_bias', 'transformer.resblocks.2.attn.out_proj.weight', 'transformer.resblocks.2.attn.out_proj.bias', 'transformer.resblocks.2.ln_1.weight', 'transformer.resblocks.2.ln_1.bias', 'transformer.resblocks.2.mlp.c_fc.weight', 'transformer.resblocks.2.mlp.c_fc.bias', 'transformer.resblocks.2.mlp.c_proj.weight', 'transformer.resblocks.2.mlp.c_proj.bias', 'transformer.resblocks.2.ln_2.weight', 'transformer.resblocks.2.ln_2.bias', 'transformer.resblocks.3.message_fc.weight', 'transformer.resblocks.3.message_fc.bias', 'transformer.resblocks.3.message_ln.weight', 'transformer.resblocks.3.message_ln.bias', 'transformer.resblocks.3.message_attn.in_proj_weight', 'transformer.resblocks.3.message_attn.in_proj_bias', 'transformer.resblocks.3.message_attn.out_proj.weight', 'transformer.resblocks.3.message_attn.out_proj.bias', 'transformer.resblocks.3.attn.in_proj_weight', 'transformer.resblocks.3.attn.in_proj_bias', 'transformer.resblocks.3.attn.out_proj.weight', 'transformer.resblocks.3.attn.out_proj.bias', 'transformer.resblocks.3.ln_1.weight', 'transformer.resblocks.3.ln_1.bias', 'transformer.resblocks.3.mlp.c_fc.weight', 'transformer.resblocks.3.mlp.c_fc.bias', 'transformer.resblocks.3.mlp.c_proj.weight', 'transformer.resblocks.3.mlp.c_proj.bias', 'transformer.resblocks.3.ln_2.weight', 'transformer.resblocks.3.ln_2.bias', 'transformer.resblocks.4.message_fc.weight', 'transformer.resblocks.4.message_fc.bias', 'transformer.resblocks.4.message_ln.weight', 'transformer.resblocks.4.message_ln.bias', 'transformer.resblocks.4.message_attn.in_proj_weight', 'transformer.resblocks.4.message_attn.in_proj_bias', 'transformer.resblocks.4.message_attn.out_proj.weight', 'transformer.resblocks.4.message_attn.out_proj.bias', 'transformer.resblocks.4.attn.in_proj_weight', 'transformer.resblocks.4.attn.in_proj_bias', 'transformer.resblocks.4.attn.out_proj.weight', 'transformer.resblocks.4.attn.out_proj.bias', 'transformer.resblocks.4.ln_1.weight', 'transformer.resblocks.4.ln_1.bias', 'transformer.resblocks.4.mlp.c_fc.weight', 'transformer.resblocks.4.mlp.c_fc.bias', 'transformer.resblocks.4.mlp.c_proj.weight', 'transformer.resblocks.4.mlp.c_proj.bias', 'transformer.resblocks.4.ln_2.weight', 'transformer.resblocks.4.ln_2.bias', 'transformer.resblocks.5.message_fc.weight', 'transformer.resblocks.5.message_fc.bias', 'transformer.resblocks.5.message_ln.weight', 'transformer.resblocks.5.message_ln.bias', 'transformer.resblocks.5.message_attn.in_proj_weight', 'transformer.resblocks.5.message_attn.in_proj_bias', 'transformer.resblocks.5.message_attn.out_proj.weight', 'transformer.resblocks.5.message_attn.out_proj.bias', 'transformer.resblocks.5.attn.in_proj_weight', 'transformer.resblocks.5.attn.in_proj_bias', 'transformer.resblocks.5.attn.out_proj.weight', 'transformer.resblocks.5.attn.out_proj.bias', 'transformer.resblocks.5.ln_1.weight', 'transformer.resblocks.5.ln_1.bias', 'transformer.resblocks.5.mlp.c_fc.weight', 'transformer.resblocks.5.mlp.c_fc.bias', 'transformer.resblocks.5.mlp.c_proj.weight', 'transformer.resblocks.5.mlp.c_proj.bias', 'transformer.resblocks.5.ln_2.weight', 'transformer.resblocks.5.ln_2.bias', 'transformer.resblocks.6.message_fc.weight', 'transformer.resblocks.6.message_fc.bias', 'transformer.resblocks.6.message_ln.weight', 'transformer.resblocks.6.message_ln.bias', 'transformer.resblocks.6.message_attn.in_proj_weight', 'transformer.resblocks.6.message_attn.in_proj_bias', 'transformer.resblocks.6.message_attn.out_proj.weight', 'transformer.resblocks.6.message_attn.out_proj.bias', 'transformer.resblocks.6.attn.in_proj_weight', 'transformer.resblocks.6.attn.in_proj_bias', 'transformer.resblocks.6.attn.out_proj.weight', 'transformer.resblocks.6.attn.out_proj.bias', 'transformer.resblocks.6.ln_1.weight', 'transformer.resblocks.6.ln_1.bias', 'transformer.resblocks.6.mlp.c_fc.weight', 'transformer.resblocks.6.mlp.c_fc.bias', 'transformer.resblocks.6.mlp.c_proj.weight', 'transformer.resblocks.6.mlp.c_proj.bias', 'transformer.resblocks.6.ln_2.weight', 'transformer.resblocks.6.ln_2.bias', 'transformer.resblocks.7.message_fc.weight', 'transformer.resblocks.7.message_fc.bias', 'transformer.resblocks.7.message_ln.weight', 'transformer.resblocks.7.message_ln.bias', 'transformer.resblocks.7.message_attn.in_proj_weight', 'transformer.resblocks.7.message_attn.in_proj_bias', 'transformer.resblocks.7.message_attn.out_proj.weight', 'transformer.resblocks.7.message_attn.out_proj.bias', 'transformer.resblocks.7.attn.in_proj_weight', 'transformer.resblocks.7.attn.in_proj_bias', 'transformer.resblocks.7.attn.out_proj.weight', 'transformer.resblocks.7.attn.out_proj.bias', 'transformer.resblocks.7.ln_1.weight', 'transformer.resblocks.7.ln_1.bias', 'transformer.resblocks.7.mlp.c_fc.weight', 'transformer.resblocks.7.mlp.c_fc.bias', 'transformer.resblocks.7.mlp.c_proj.weight', 'transformer.resblocks.7.mlp.c_proj.bias', 'transformer.resblocks.7.ln_2.weight', 'transformer.resblocks.7.ln_2.bias', 'transformer.resblocks.8.message_fc.weight', 'transformer.resblocks.8.message_fc.bias', 'transformer.resblocks.8.message_ln.weight', 'transformer.resblocks.8.message_ln.bias', 'transformer.resblocks.8.message_attn.in_proj_weight', 'transformer.resblocks.8.message_attn.in_proj_bias', 'transformer.resblocks.8.message_attn.out_proj.weight', 'transformer.resblocks.8.message_attn.out_proj.bias', 'transformer.resblocks.8.attn.in_proj_weight', 'transformer.resblocks.8.attn.in_proj_bias', 'transformer.resblocks.8.attn.out_proj.weight', 'transformer.resblocks.8.attn.out_proj.bias', 'transformer.resblocks.8.ln_1.weight', 'transformer.resblocks.8.ln_1.bias', 'transformer.resblocks.8.mlp.c_fc.weight', 'transformer.resblocks.8.mlp.c_fc.bias', 'transformer.resblocks.8.mlp.c_proj.weight', 'transformer.resblocks.8.mlp.c_proj.bias', 'transformer.resblocks.8.ln_2.weight', 'transformer.resblocks.8.ln_2.bias', 'transformer.resblocks.9.message_fc.weight', 'transformer.resblocks.9.message_fc.bias', 'transformer.resblocks.9.message_ln.weight', 'transformer.resblocks.9.message_ln.bias', 'transformer.resblocks.9.message_attn.in_proj_weight', 'transformer.resblocks.9.message_attn.in_proj_bias', 'transformer.resblocks.9.message_attn.out_proj.weight', 'transformer.resblocks.9.message_attn.out_proj.bias', 'transformer.resblocks.9.attn.in_proj_weight', 'transformer.resblocks.9.attn.in_proj_bias', 'transformer.resblocks.9.attn.out_proj.weight', 'transformer.resblocks.9.attn.out_proj.bias', 'transformer.resblocks.9.ln_1.weight', 'transformer.resblocks.9.ln_1.bias', 'transformer.resblocks.9.mlp.c_fc.weight', 'transformer.resblocks.9.mlp.c_fc.bias', 'transformer.resblocks.9.mlp.c_proj.weight', 'transformer.resblocks.9.mlp.c_proj.bias', 'transformer.resblocks.9.ln_2.weight', 'transformer.resblocks.9.ln_2.bias', 'transformer.resblocks.10.message_fc.weight', 'transformer.resblocks.10.message_fc.bias', 'transformer.resblocks.10.message_ln.weight', 'transformer.resblocks.10.message_ln.bias', 'transformer.resblocks.10.message_attn.in_proj_weight', 'transformer.resblocks.10.message_attn.in_proj_bias', 'transformer.resblocks.10.message_attn.out_proj.weight', 'transformer.resblocks.10.message_attn.out_proj.bias', 'transformer.resblocks.10.attn.in_proj_weight', 'transformer.resblocks.10.attn.in_proj_bias', 'transformer.resblocks.10.attn.out_proj.weight', 'transformer.resblocks.10.attn.out_proj.bias', 'transformer.resblocks.10.ln_1.weight', 'transformer.resblocks.10.ln_1.bias', 'transformer.resblocks.10.mlp.c_fc.weight', 'transformer.resblocks.10.mlp.c_fc.bias', 'transformer.resblocks.10.mlp.c_proj.weight', 'transformer.resblocks.10.mlp.c_proj.bias', 'transformer.resblocks.10.ln_2.weight', 'transformer.resblocks.10.ln_2.bias', 'transformer.resblocks.11.message_fc.weight', 'transformer.resblocks.11.message_fc.bias', 'transformer.resblocks.11.message_ln.weight', 'transformer.resblocks.11.message_ln.bias', 'transformer.resblocks.11.message_attn.in_proj_weight', 'transformer.resblocks.11.message_attn.in_proj_bias', 'transformer.resblocks.11.message_attn.out_proj.weight', 'transformer.resblocks.11.message_attn.out_proj.bias', 'transformer.resblocks.11.attn.in_proj_weight', 'transformer.resblocks.11.attn.in_proj_bias', 'transformer.resblocks.11.attn.out_proj.weight', 'transformer.resblocks.11.attn.out_proj.bias', 'transformer.resblocks.11.ln_1.weight', 'transformer.resblocks.11.ln_1.bias', 'transformer.resblocks.11.mlp.c_fc.weight', 'transformer.resblocks.11.mlp.c_fc.bias', 'transformer.resblocks.11.mlp.c_proj.weight', 'transformer.resblocks.11.mlp.c_proj.bias', 'transformer.resblocks.11.ln_2.weight', 'transformer.resblocks.11.ln_2.bias', 'ln_post.weight', 'ln_post.bias', 'mit.positional_embedding', 'mit.resblocks.0.attn.in_proj_weight', 'mit.resblocks.0.attn.in_proj_bias', 'mit.resblocks.0.attn.out_proj.weight', 'mit.resblocks.0.attn.out_proj.bias', 'mit.resblocks.0.ln_1.weight', 'mit.resblocks.0.ln_1.bias', 'mit.resblocks.0.mlp.c_fc.weight', 'mit.resblocks.0.mlp.c_fc.bias', 'mit.resblocks.0.mlp.c_proj.weight', 'mit.resblocks.0.mlp.c_proj.bias', 'mit.resblocks.0.ln_2.weight', 'mit.resblocks.0.ln_2.bias'], unexpected_keys=['visual.class_embedding', 'visual.positional_embedding', 'visual.proj', 'visual.conv1.weight', 'visual.ln_pre.weight', 'visual.ln_pre.bias', 'visual.transformer.resblocks.0.attn.in_proj_weight', 'visual.transformer.resblocks.0.attn.in_proj_bias', 'visual.transformer.resblocks.0.attn.out_proj.weight', 'visual.transformer.resblocks.0.attn.out_proj.bias', 'visual.transformer.resblocks.0.ln_1.weight', 'visual.transformer.resblocks.0.ln_1.bias', 'visual.transformer.resblocks.0.mlp.c_fc.weight', 'visual.transformer.resblocks.0.mlp.c_fc.bias', 'visual.transformer.resblocks.0.mlp.c_proj.weight', 'visual.transformer.resblocks.0.mlp.c_proj.bias', 'visual.transformer.resblocks.0.ln_2.weight', 'visual.transformer.resblocks.0.ln_2.bias', 'visual.transformer.resblocks.1.attn.in_proj_weight', 'visual.transformer.resblocks.1.attn.in_proj_bias', 'visual.transformer.resblocks.1.attn.out_proj.weight', 'visual.transformer.resblocks.1.attn.out_proj.bias', 'visual.transformer.resblocks.1.ln_1.weight', 'visual.transformer.resblocks.1.ln_1.bias', 'visual.transformer.resblocks.1.mlp.c_fc.weight', 'visual.transformer.resblocks.1.mlp.c_fc.bias', 'visual.transformer.resblocks.1.mlp.c_proj.weight', 'visual.transformer.resblocks.1.mlp.c_proj.bias', 'visual.transformer.resblocks.1.ln_2.weight', 'visual.transformer.resblocks.1.ln_2.bias', 'visual.transformer.resblocks.2.attn.in_proj_weight', 'visual.transformer.resblocks.2.attn.in_proj_bias', 'visual.transformer.resblocks.2.attn.out_proj.weight', 'visual.transformer.resblocks.2.attn.out_proj.bias', 'visual.transformer.resblocks.2.ln_1.weight', 'visual.transformer.resblocks.2.ln_1.bias', 'visual.transformer.resblocks.2.mlp.c_fc.weight', 'visual.transformer.resblocks.2.mlp.c_fc.bias', 'visual.transformer.resblocks.2.mlp.c_proj.weight', 'visual.transformer.resblocks.2.mlp.c_proj.bias', 'visual.transformer.resblocks.2.ln_2.weight', 'visual.transformer.resblocks.2.ln_2.bias', 'visual.transformer.resblocks.3.attn.in_proj_weight', 'visual.transformer.resblocks.3.attn.in_proj_bias', 'visual.transformer.resblocks.3.attn.out_proj.weight', 'visual.transformer.resblocks.3.attn.out_proj.bias', 'visual.transformer.resblocks.3.ln_1.weight', 'visual.transformer.resblocks.3.ln_1.bias', 'visual.transformer.resblocks.3.mlp.c_fc.weight', 'visual.transformer.resblocks.3.mlp.c_fc.bias', 'visual.transformer.resblocks.3.mlp.c_proj.weight', 'visual.transformer.resblocks.3.mlp.c_proj.bias', 'visual.transformer.resblocks.3.ln_2.weight', 'visual.transformer.resblocks.3.ln_2.bias', 'visual.transformer.resblocks.4.attn.in_proj_weight', 'visual.transformer.resblocks.4.attn.in_proj_bias', 'visual.transformer.resblocks.4.attn.out_proj.weight', 'visual.transformer.resblocks.4.attn.out_proj.bias', 'visual.transformer.resblocks.4.ln_1.weight', 'visual.transformer.resblocks.4.ln_1.bias', 'visual.transformer.resblocks.4.mlp.c_fc.weight', 'visual.transformer.resblocks.4.mlp.c_fc.bias', 'visual.transformer.resblocks.4.mlp.c_proj.weight', 'visual.transformer.resblocks.4.mlp.c_proj.bias', 'visual.transformer.resblocks.4.ln_2.weight', 'visual.transformer.resblocks.4.ln_2.bias', 'visual.transformer.resblocks.5.attn.in_proj_weight', 'visual.transformer.resblocks.5.attn.in_proj_bias', 'visual.transformer.resblocks.5.attn.out_proj.weight', 'visual.transformer.resblocks.5.attn.out_proj.bias', 'visual.transformer.resblocks.5.ln_1.weight', 'visual.transformer.resblocks.5.ln_1.bias', 'visual.transformer.resblocks.5.mlp.c_fc.weight', 'visual.transformer.resblocks.5.mlp.c_fc.bias', 'visual.transformer.resblocks.5.mlp.c_proj.weight', 'visual.transformer.resblocks.5.mlp.c_proj.bias', 'visual.transformer.resblocks.5.ln_2.weight', 'visual.transformer.resblocks.5.ln_2.bias', 'visual.transformer.resblocks.6.attn.in_proj_weight', 'visual.transformer.resblocks.6.attn.in_proj_bias', 'visual.transformer.resblocks.6.attn.out_proj.weight', 'visual.transformer.resblocks.6.attn.out_proj.bias', 'visual.transformer.resblocks.6.ln_1.weight', 'visual.transformer.resblocks.6.ln_1.bias', 'visual.transformer.resblocks.6.mlp.c_fc.weight', 'visual.transformer.resblocks.6.mlp.c_fc.bias', 'visual.transformer.resblocks.6.mlp.c_proj.weight', 'visual.transformer.resblocks.6.mlp.c_proj.bias', 'visual.transformer.resblocks.6.ln_2.weight', 'visual.transformer.resblocks.6.ln_2.bias', 'visual.transformer.resblocks.7.attn.in_proj_weight', 'visual.transformer.resblocks.7.attn.in_proj_bias', 'visual.transformer.resblocks.7.attn.out_proj.weight', 'visual.transformer.resblocks.7.attn.out_proj.bias', 'visual.transformer.resblocks.7.ln_1.weight', 'visual.transformer.resblocks.7.ln_1.bias', 'visual.transformer.resblocks.7.mlp.c_fc.weight', 'visual.transformer.resblocks.7.mlp.c_fc.bias', 'visual.transformer.resblocks.7.mlp.c_proj.weight', 'visual.transformer.resblocks.7.mlp.c_proj.bias', 'visual.transformer.resblocks.7.ln_2.weight', 'visual.transformer.resblocks.7.ln_2.bias', 'visual.transformer.resblocks.8.attn.in_proj_weight', 'visual.transformer.resblocks.8.attn.in_proj_bias', 'visual.transformer.resblocks.8.attn.out_proj.weight', 'visual.transformer.resblocks.8.attn.out_proj.bias', 'visual.transformer.resblocks.8.ln_1.weight', 'visual.transformer.resblocks.8.ln_1.bias', 'visual.transformer.resblocks.8.mlp.c_fc.weight', 'visual.transformer.resblocks.8.mlp.c_fc.bias', 'visual.transformer.resblocks.8.mlp.c_proj.weight', 'visual.transformer.resblocks.8.mlp.c_proj.bias', 'visual.transformer.resblocks.8.ln_2.weight', 'visual.transformer.resblocks.8.ln_2.bias', 'visual.transformer.resblocks.9.attn.in_proj_weight', 'visual.transformer.resblocks.9.attn.in_proj_bias', 'visual.transformer.resblocks.9.attn.out_proj.weight', 'visual.transformer.resblocks.9.attn.out_proj.bias', 'visual.transformer.resblocks.9.ln_1.weight', 'visual.transformer.resblocks.9.ln_1.bias', 'visual.transformer.resblocks.9.mlp.c_fc.weight', 'visual.transformer.resblocks.9.mlp.c_fc.bias', 'visual.transformer.resblocks.9.mlp.c_proj.weight', 'visual.transformer.resblocks.9.mlp.c_proj.bias', 'visual.transformer.resblocks.9.ln_2.weight', 'visual.transformer.resblocks.9.ln_2.bias', 'visual.transformer.resblocks.10.attn.in_proj_weight', 'visual.transformer.resblocks.10.attn.in_proj_bias', 'visual.transformer.resblocks.10.attn.out_proj.weight', 'visual.transformer.resblocks.10.attn.out_proj.bias', 'visual.transformer.resblocks.10.ln_1.weight', 'visual.transformer.resblocks.10.ln_1.bias', 'visual.transformer.resblocks.10.mlp.c_fc.weight', 'visual.transformer.resblocks.10.mlp.c_fc.bias', 'visual.transformer.resblocks.10.mlp.c_proj.weight', 'visual.transformer.resblocks.10.mlp.c_proj.bias', 'visual.transformer.resblocks.10.ln_2.weight', 'visual.transformer.resblocks.10.ln_2.bias', 'visual.transformer.resblocks.11.attn.in_proj_weight', 'visual.transformer.resblocks.11.attn.in_proj_bias', 'visual.transformer.resblocks.11.attn.out_proj.weight', 'visual.transformer.resblocks.11.attn.out_proj.bias', 'visual.transformer.resblocks.11.ln_1.weight', 'visual.transformer.resblocks.11.ln_1.bias', 'visual.transformer.resblocks.11.mlp.c_fc.weight', 'visual.transformer.resblocks.11.mlp.c_fc.bias', 'visual.transformer.resblocks.11.mlp.c_proj.weight', 'visual.transformer.resblocks.11.mlp.c_proj.bias', 'visual.transformer.resblocks.11.ln_2.weight', 'visual.transformer.resblocks.11.ln_2.bias', 'visual.ln_post.weight', 'visual.ln_post.bias'])\n"
     ]
    }
   ],
   "source": [
    "\n",
    "embed_model, _ = load(None, 'ViT-B/16', \n",
    "                         device=\"cpu\", jit=False, \n",
    "                         T=len(frames), logger=logger\n",
    "                        )"
   ]
  },
  {
   "cell_type": "code",
   "execution_count": 33,
   "metadata": {},
   "outputs": [],
   "source": [
    "frames = frames[::3]"
   ]
  },
  {
   "cell_type": "code",
   "execution_count": 34,
   "metadata": {},
   "outputs": [],
   "source": [
    "frames=frames[:(len(frames) // 64) * 64]"
   ]
  },
  {
   "cell_type": "code",
   "execution_count": 97,
   "metadata": {},
   "outputs": [
    {
     "data": {
      "text/plain": [
       "torch.Size([1, 31309824])"
      ]
     },
     "execution_count": 97,
     "metadata": {},
     "output_type": "execute_result"
    }
   ],
   "source": [
    "frames.view(1,-1).shape"
   ]
  },
  {
   "cell_type": "code",
   "execution_count": 41,
   "metadata": {},
   "outputs": [
    {
     "ename": "NameError",
     "evalue": "name 'embed_model' is not defined",
     "output_type": "error",
     "traceback": [
      "\u001b[0;31m---------------------------------------------------------------------------\u001b[0m",
      "\u001b[0;31mNameError\u001b[0m                                 Traceback (most recent call last)",
      "Cell \u001b[0;32mIn[41], line 2\u001b[0m\n\u001b[1;32m      1\u001b[0m \u001b[38;5;28;01mwith\u001b[39;00m torch\u001b[38;5;241m.\u001b[39mno_grad():\n\u001b[0;32m----> 2\u001b[0m    x\u001b[38;5;241m=\u001b[39membed_model(frames)\n",
      "\u001b[0;31mNameError\u001b[0m: name 'embed_model' is not defined"
     ]
    }
   ],
   "source": [
    "with torch.no_grad():\n",
    "   x=embed_model(frames)\n"
   ]
  },
  {
   "cell_type": "code",
   "execution_count": 75,
   "metadata": {},
   "outputs": [
    {
     "data": {
      "text/plain": [
       "torch.Size([1, 64, 512])"
      ]
     },
     "execution_count": 75,
     "metadata": {},
     "output_type": "execute_result"
    }
   ],
   "source": [
    "x[0].shape"
   ]
  },
  {
   "cell_type": "code",
   "execution_count": 85,
   "metadata": {},
   "outputs": [],
   "source": [
    "cls_features = x[0]#.view(1, 64, -1)\n"
   ]
  },
  {
   "cell_type": "code",
   "execution_count": 149,
   "metadata": {},
   "outputs": [
    {
     "data": {
      "text/plain": [
       "512"
      ]
     },
     "execution_count": 149,
     "metadata": {},
     "output_type": "execute_result"
    }
   ],
   "source": [
    "cls_features.shape[-1]"
   ]
  },
  {
   "cell_type": "code",
   "execution_count": 63,
   "metadata": {},
   "outputs": [],
   "source": [
    "img_featurs=x[1].mean(dim=1)    "
   ]
  },
  {
   "cell_type": "code",
   "execution_count": 62,
   "metadata": {},
   "outputs": [
    {
     "data": {
      "text/plain": [
       "(torch.Size([64, 768]), torch.Size([1, 64, 512]))"
      ]
     },
     "execution_count": 62,
     "metadata": {},
     "output_type": "execute_result"
    }
   ],
   "source": [
    "img_featurs.shape, cls_features.shape"
   ]
  },
  {
   "cell_type": "code",
   "execution_count": null,
   "metadata": {},
   "outputs": [],
   "source": []
  },
  {
   "cell_type": "code",
   "execution_count": 61,
   "metadata": {},
   "outputs": [
    {
     "data": {
      "text/plain": [
       "(torch.Size([64, 512]), torch.Size([64, 196, 768]))"
      ]
     },
     "execution_count": 61,
     "metadata": {},
     "output_type": "execute_result"
    }
   ],
   "source": [
    "x[0].shape,x[1].shape"
   ]
  },
  {
   "cell_type": "code",
   "execution_count": 9,
   "metadata": {},
   "outputs": [],
   "source": [
    "x = torch.randn(2, 3, 5)"
   ]
  },
  {
   "cell_type": "code",
   "execution_count": 7,
   "metadata": {},
   "outputs": [],
   "source": [
    "import torchvision"
   ]
  },
  {
   "cell_type": "code",
   "execution_count": 8,
   "metadata": {},
   "outputs": [
    {
     "name": "stderr",
     "output_type": "stream",
     "text": [
      "/Users/kanantharaman/anaconda3/lib/python3.11/site-packages/torchvision/models/_utils.py:208: UserWarning: The parameter 'pretrained' is deprecated since 0.13 and may be removed in the future, please use 'weights' instead.\n",
      "  warnings.warn(\n",
      "/Users/kanantharaman/anaconda3/lib/python3.11/site-packages/torchvision/models/_utils.py:223: UserWarning: Arguments other than a weight enum or `None` for 'weights' are deprecated since 0.13 and may be removed in the future. The current behavior is equivalent to passing `weights=ViT_B_16_Weights.IMAGENET1K_V1`. You can also use `weights=ViT_B_16_Weights.DEFAULT` to get the most up-to-date weights.\n",
      "  warnings.warn(msg)\n"
     ]
    }
   ],
   "source": [
    "vit = torchvision.models.vit_b_16(pretrained=True)"
   ]
  },
  {
   "cell_type": "code",
   "execution_count": 34,
   "metadata": {},
   "outputs": [],
   "source": [
    "images = images.view(-1,3, 224, 224)"
   ]
  },
  {
   "cell_type": "code",
   "execution_count": 50,
   "metadata": {},
   "outputs": [
    {
     "data": {
      "text/plain": [
       "torch.Size([1536, 3, 224, 224])"
      ]
     },
     "execution_count": 50,
     "metadata": {},
     "output_type": "execute_result"
    }
   ],
   "source": [
    "images[0:].shape"
   ]
  },
  {
   "cell_type": "code",
   "execution_count": 47,
   "metadata": {},
   "outputs": [],
   "source": [
    "# a dict to store the activations\n",
    "activation = {}\n",
    "def getActivation(name):\n",
    "    # the hook signature\n",
    "    def hook(model, input, output):\n",
    "        activation[name] = output.detach()\n",
    "    return hook\n",
    "visual = vit.encoder.register_forward_hook(getActivation('encode'))"
   ]
  },
  {
   "cell_type": "code",
   "execution_count": 44,
   "metadata": {},
   "outputs": [],
   "source": [
    "with torch.no_grad():\n",
    "    xvit = vit(images[0:])"
   ]
  },
  {
   "cell_type": "code",
   "execution_count": 46,
   "metadata": {},
   "outputs": [],
   "source": [
    "visual.remove()"
   ]
  },
  {
   "cell_type": "code",
   "execution_count": 48,
   "metadata": {},
   "outputs": [
    {
     "data": {
      "text/plain": [
       "{}"
      ]
     },
     "execution_count": 48,
     "metadata": {},
     "output_type": "execute_result"
    }
   ],
   "source": [
    "activation"
   ]
  },
  {
   "cell_type": "code",
   "execution_count": 52,
   "metadata": {},
   "outputs": [],
   "source": [
    "from transformers import ViTModel"
   ]
  },
  {
   "cell_type": "code",
   "execution_count": 332,
   "metadata": {},
   "outputs": [
    {
     "name": "stdout",
     "output_type": "stream",
     "text": [
      "\u001b[32m[2024-11-20 21:49:15 urllib3.connectionpool]\u001b[0m\u001b[33m(connectionpool.py 291)\u001b[0m: DEBUG Resetting dropped connection: huggingface.co\n"
     ]
    },
    {
     "name": "stderr",
     "output_type": "stream",
     "text": [
      "/Users/kanantharaman/anaconda3/lib/python3.11/site-packages/huggingface_hub/file_download.py:1132: FutureWarning: `resume_download` is deprecated and will be removed in version 1.0.0. Downloads always resume when possible. If you want to force a new download, use `force_download=True`.\n",
      "  warnings.warn(\n"
     ]
    },
    {
     "name": "stdout",
     "output_type": "stream",
     "text": [
      "\u001b[32m[2024-11-20 21:49:15 urllib3.connectionpool]\u001b[0m\u001b[33m(connectionpool.py 474)\u001b[0m: DEBUG https://huggingface.co:443 \"HEAD /google/vit-base-patch16-224/resolve/main/config.json HTTP/1.1\" 200 0\n",
      "\u001b[32m[2024-11-20 21:49:15 urllib3.connectionpool]\u001b[0m\u001b[33m(connectionpool.py 474)\u001b[0m: DEBUG https://huggingface.co:443 \"HEAD /google/vit-base-patch16-224/resolve/main/config.json HTTP/1.1\" 200 0\n"
     ]
    },
    {
     "name": "stderr",
     "output_type": "stream",
     "text": [
      "Some weights of ViTModel were not initialized from the model checkpoint at google/vit-base-patch16-224 and are newly initialized: ['vit.pooler.dense.bias', 'vit.pooler.dense.weight']\n",
      "You should probably TRAIN this model on a down-stream task to be able to use it for predictions and inference.\n"
     ]
    }
   ],
   "source": [
    "model = ViTModel.from_pretrained('google/vit-base-patch16-224')\n"
   ]
  },
  {
   "cell_type": "code",
   "execution_count": 70,
   "metadata": {},
   "outputs": [],
   "source": [
    "with torch.no_grad():\n",
    "    outputs = model(images)"
   ]
  },
  {
   "cell_type": "code",
   "execution_count": 71,
   "metadata": {},
   "outputs": [
    {
     "data": {
      "text/plain": [
       "torch.Size([1536, 512])"
      ]
     },
     "execution_count": 71,
     "metadata": {},
     "output_type": "execute_result"
    }
   ],
   "source": [
    "outputs.shape"
   ]
  },
  {
   "cell_type": "code",
   "execution_count": 72,
   "metadata": {},
   "outputs": [],
   "source": [
    "cls = outputs"
   ]
  },
  {
   "cell_type": "code",
   "execution_count": 73,
   "metadata": {},
   "outputs": [],
   "source": [
    "cls=cls.view(4, 384,-1)"
   ]
  },
  {
   "cell_type": "code",
   "execution_count": 48,
   "metadata": {},
   "outputs": [
    {
     "ename": "NameError",
     "evalue": "name 'plt' is not defined",
     "output_type": "error",
     "traceback": [
      "\u001b[0;31m---------------------------------------------------------------------------\u001b[0m",
      "\u001b[0;31mNameError\u001b[0m                                 Traceback (most recent call last)",
      "Cell \u001b[0;32mIn[48], line 3\u001b[0m\n\u001b[1;32m      1\u001b[0m dist \u001b[38;5;241m=\u001b[39m torch\u001b[38;5;241m.\u001b[39mcdist(\u001b[38;5;28mcls\u001b[39m[\u001b[38;5;241m3\u001b[39m],\u001b[38;5;28mcls\u001b[39m[\u001b[38;5;241m3\u001b[39m], p\u001b[38;5;241m=\u001b[39m\u001b[38;5;241m2\u001b[39m)\u001b[38;5;241m*\u001b[39m\u001b[38;5;241m*\u001b[39m\u001b[38;5;241m2\u001b[39m\n\u001b[1;32m      2\u001b[0m dist \u001b[38;5;241m=\u001b[39m np\u001b[38;5;241m.\u001b[39mlog(\u001b[38;5;241m1\u001b[39m \u001b[38;5;241m+\u001b[39m dist)\n\u001b[0;32m----> 3\u001b[0m plt\u001b[38;5;241m.\u001b[39mplot(dist[\u001b[38;5;241m0\u001b[39m,:\u001b[38;5;241m-\u001b[39m\u001b[38;5;241m200\u001b[39m])\n",
      "\u001b[0;31mNameError\u001b[0m: name 'plt' is not defined"
     ]
    }
   ],
   "source": [
    "dist = torch.cdist(cls[3],cls[3], p=2)**2\n",
    "dist = np.log(1 + dist)\n",
    "plt.plot(dist[0,:-200])\n"
   ]
  },
  {
   "cell_type": "code",
   "execution_count": 91,
   "metadata": {},
   "outputs": [
    {
     "name": "stderr",
     "output_type": "stream",
     "text": [
      "/var/folders/fn/gqsn1b5x75x3nstgrhp06xtw0000gp/T/ipykernel_63691/3725310736.py:5: RuntimeWarning: invalid value encountered in log\n",
      "  dist = np.log(1 + dist)\n"
     ]
    }
   ],
   "source": [
    "\n",
    "for idx in range(cls.shape[0]):\n",
    "    dist = torch.cdist(cls[idx], cls[idx], p=2)**2\n",
    "    heatmap = plot_heatmap(dist.numpy(), log_scale=True)\n",
    "    cv2.imwrite(f'heatmap_{idx}_{idx}.png', heatmap) "
   ]
  },
  {
   "cell_type": "code",
   "execution_count": 111,
   "metadata": {},
   "outputs": [
    {
     "data": {
      "text/plain": [
       "[<matplotlib.lines.Line2D at 0x19d32aa10>]"
      ]
     },
     "execution_count": 111,
     "metadata": {},
     "output_type": "execute_result"
    },
    {
     "data": {
      "image/png": "[encoded data removed]",
      "text/plain": [
       "<Figure size 640x480 with 1 Axes>"
      ]
     },
     "metadata": {},
     "output_type": "display_data"
    }
   ],
   "source": [
    "plt.plot(dist[0,::3])"
   ]
  },
  {
   "cell_type": "code",
   "execution_count": 30,
   "metadata": {},
   "outputs": [
    {
     "ename": "NameError",
     "evalue": "name 'images' is not defined",
     "output_type": "error",
     "traceback": [
      "\u001b[0;31m---------------------------------------------------------------------------\u001b[0m",
      "\u001b[0;31mNameError\u001b[0m                                 Traceback (most recent call last)",
      "Cell \u001b[0;32mIn[30], line 2\u001b[0m\n\u001b[1;32m      1\u001b[0m \u001b[38;5;28;01mfrom\u001b[39;00m \u001b[38;5;21;01mtorchinfo\u001b[39;00m \u001b[38;5;28;01mimport\u001b[39;00m summary\n\u001b[0;32m----> 2\u001b[0m summary(model, input_size\u001b[38;5;241m=\u001b[39mimages\u001b[38;5;241m.\u001b[39mshape)\n",
      "\u001b[0;31mNameError\u001b[0m: name 'images' is not defined"
     ]
    }
   ],
   "source": [
    "from torchinfo import summary\n",
    "summary(model, input_size=images.shape)"
   ]
  },
  {
   "cell_type": "code",
   "execution_count": 129,
   "metadata": {},
   "outputs": [
    {
     "data": {
      "text/plain": [
       "tensor([[ 0.0173,  0.6985,  1.1933,  0.2160,  0.8279],\n",
       "        [ 0.0178,  0.6831,  1.1524,  0.2121,  0.7996],\n",
       "        [-0.0088,  0.6930,  1.1600,  0.2479,  0.7403],\n",
       "        [-0.0351,  0.7168,  1.1923,  0.3933,  0.7420],\n",
       "        [-0.0060,  0.7675,  1.1847,  0.3704,  0.7868]])"
      ]
     },
     "execution_count": 129,
     "metadata": {},
     "output_type": "execute_result"
    }
   ],
   "source": [
    "cls[0][0:5,0:5]"
   ]
  },
  {
   "cell_type": "code",
   "execution_count": 51,
   "metadata": {},
   "outputs": [],
   "source": [
    "from typing import List, Optional\n",
    "from sklearn.decomposition import PCA"
   ]
  },
  {
   "cell_type": "code",
   "execution_count": 52,
   "metadata": {},
   "outputs": [],
   "source": [
    "def plot_pca(embeddings: List[np.ndarray]) -> np.ndarray:\n",
    "    \"\"\"Plot the 1D PCA of the embeddings into an OpenCV image.\"\"\"\n",
    "    projection = PCA(n_components=1).fit_transform(embeddings).flatten()\n",
    "    projection = (projection - projection.min()) / (projection.max() - projection.min())\n",
    "    h, w = 200, len(projection) * 4\n",
    "    img = np.full((h, w, 3), 255, dtype=np.uint8)\n",
    "    y = ((1 - projection) * h).astype(np.int32)\n",
    "    x = (np.arange(len(y)) / len(y) * w).astype(np.int32)\n",
    "    pts = np.stack([x, y], axis=1).reshape((-1, 1, 2))\n",
    "    img = cv2.polylines(img, [pts], False, (102, 60, 0), 1, cv2.LINE_AA)\n",
    "    return img\n"
   ]
  },
  {
   "cell_type": "code",
   "execution_count": 170,
   "metadata": {},
   "outputs": [],
   "source": [
    "img = plot_pca(x[0][2,:-150].numpy())\n",
    "img1 = plot_pca(cls[2,:-150].numpy())"
   ]
  },
  {
   "cell_type": "code",
   "execution_count": 58,
   "metadata": {},
   "outputs": [
    {
     "data": {
      "text/plain": [
       "torch.Size([4, 384, 512])"
      ]
     },
     "execution_count": 58,
     "metadata": {},
     "output_type": "execute_result"
    }
   ],
   "source": [
    "cls.shape"
   ]
  },
  {
   "cell_type": "code",
   "execution_count": 176,
   "metadata": {},
   "outputs": [],
   "source": [
    "for idx in range(cls.shape[0]):\n",
    "    cv2.imwrite(os.path.join('./', f'pca_{idx}.png'), plot_pca(x[0][idx,:-250].numpy()))   \n",
    "    cv2.imwrite(os.path.join('./', f'pca1_{idx}.png'), plot_pca(cls[idx,:-250].numpy()))\n",
    "\n"
   ]
  },
  {
   "cell_type": "code",
   "execution_count": 74,
   "metadata": {},
   "outputs": [
    {
     "data": {
      "text/plain": [
       "True"
      ]
     },
     "execution_count": 74,
     "metadata": {},
     "output_type": "execute_result"
    }
   ],
   "source": [
    "idx=0\n",
    "cv2.imwrite(os.path.join('./', f'pca_openclip_{idx}.png'), plot_pca(cls[idx][:115].numpy()))   \n"
   ]
  },
  {
   "cell_type": "code",
   "execution_count": 212,
   "metadata": {},
   "outputs": [],
   "source": [
    "from transformers import CLIPVisionModel"
   ]
  },
  {
   "cell_type": "code",
   "execution_count": 364,
   "metadata": {},
   "outputs": [
    {
     "name": "stdout",
     "output_type": "stream",
     "text": [
      "\u001b[32m[2024-11-21 13:03:17 urllib3.connectionpool]\u001b[0m\u001b[33m(connectionpool.py 291)\u001b[0m: DEBUG Resetting dropped connection: huggingface.co\n"
     ]
    },
    {
     "name": "stderr",
     "output_type": "stream",
     "text": [
      "/Users/kanantharaman/anaconda3/lib/python3.11/site-packages/huggingface_hub/file_download.py:1132: FutureWarning: `resume_download` is deprecated and will be removed in version 1.0.0. Downloads always resume when possible. If you want to force a new download, use `force_download=True`.\n",
      "  warnings.warn(\n"
     ]
    },
    {
     "name": "stdout",
     "output_type": "stream",
     "text": [
      "\u001b[32m[2024-11-21 13:03:18 urllib3.connectionpool]\u001b[0m\u001b[33m(connectionpool.py 474)\u001b[0m: DEBUG https://huggingface.co:443 \"HEAD /openai/clip-vit-base-patch16/resolve/main/config.json HTTP/1.1\" 200 0\n",
      "\u001b[32m[2024-11-21 13:03:18 urllib3.connectionpool]\u001b[0m\u001b[33m(connectionpool.py 474)\u001b[0m: DEBUG https://huggingface.co:443 \"HEAD /openai/clip-vit-base-patch16/resolve/main/config.json HTTP/1.1\" 200 0\n"
     ]
    }
   ],
   "source": [
    "model1=CLIPVisionModel.from_pretrained('openai/clip-vit-base-patch16',torchscript=True) "
   ]
  },
  {
   "cell_type": "code",
   "execution_count": 365,
   "metadata": {},
   "outputs": [
    {
     "data": {
      "text/plain": [
       "odict_keys(['vision_model.embeddings.class_embedding', 'vision_model.embeddings.patch_embedding.weight', 'vision_model.embeddings.position_embedding.weight', 'vision_model.pre_layrnorm.weight', 'vision_model.pre_layrnorm.bias', 'vision_model.encoder.layers.0.self_attn.k_proj.weight', 'vision_model.encoder.layers.0.self_attn.k_proj.bias', 'vision_model.encoder.layers.0.self_attn.v_proj.weight', 'vision_model.encoder.layers.0.self_attn.v_proj.bias', 'vision_model.encoder.layers.0.self_attn.q_proj.weight', 'vision_model.encoder.layers.0.self_attn.q_proj.bias', 'vision_model.encoder.layers.0.self_attn.out_proj.weight', 'vision_model.encoder.layers.0.self_attn.out_proj.bias', 'vision_model.encoder.layers.0.layer_norm1.weight', 'vision_model.encoder.layers.0.layer_norm1.bias', 'vision_model.encoder.layers.0.mlp.fc1.weight', 'vision_model.encoder.layers.0.mlp.fc1.bias', 'vision_model.encoder.layers.0.mlp.fc2.weight', 'vision_model.encoder.layers.0.mlp.fc2.bias', 'vision_model.encoder.layers.0.layer_norm2.weight', 'vision_model.encoder.layers.0.layer_norm2.bias', 'vision_model.encoder.layers.1.self_attn.k_proj.weight', 'vision_model.encoder.layers.1.self_attn.k_proj.bias', 'vision_model.encoder.layers.1.self_attn.v_proj.weight', 'vision_model.encoder.layers.1.self_attn.v_proj.bias', 'vision_model.encoder.layers.1.self_attn.q_proj.weight', 'vision_model.encoder.layers.1.self_attn.q_proj.bias', 'vision_model.encoder.layers.1.self_attn.out_proj.weight', 'vision_model.encoder.layers.1.self_attn.out_proj.bias', 'vision_model.encoder.layers.1.layer_norm1.weight', 'vision_model.encoder.layers.1.layer_norm1.bias', 'vision_model.encoder.layers.1.mlp.fc1.weight', 'vision_model.encoder.layers.1.mlp.fc1.bias', 'vision_model.encoder.layers.1.mlp.fc2.weight', 'vision_model.encoder.layers.1.mlp.fc2.bias', 'vision_model.encoder.layers.1.layer_norm2.weight', 'vision_model.encoder.layers.1.layer_norm2.bias', 'vision_model.encoder.layers.2.self_attn.k_proj.weight', 'vision_model.encoder.layers.2.self_attn.k_proj.bias', 'vision_model.encoder.layers.2.self_attn.v_proj.weight', 'vision_model.encoder.layers.2.self_attn.v_proj.bias', 'vision_model.encoder.layers.2.self_attn.q_proj.weight', 'vision_model.encoder.layers.2.self_attn.q_proj.bias', 'vision_model.encoder.layers.2.self_attn.out_proj.weight', 'vision_model.encoder.layers.2.self_attn.out_proj.bias', 'vision_model.encoder.layers.2.layer_norm1.weight', 'vision_model.encoder.layers.2.layer_norm1.bias', 'vision_model.encoder.layers.2.mlp.fc1.weight', 'vision_model.encoder.layers.2.mlp.fc1.bias', 'vision_model.encoder.layers.2.mlp.fc2.weight', 'vision_model.encoder.layers.2.mlp.fc2.bias', 'vision_model.encoder.layers.2.layer_norm2.weight', 'vision_model.encoder.layers.2.layer_norm2.bias', 'vision_model.encoder.layers.3.self_attn.k_proj.weight', 'vision_model.encoder.layers.3.self_attn.k_proj.bias', 'vision_model.encoder.layers.3.self_attn.v_proj.weight', 'vision_model.encoder.layers.3.self_attn.v_proj.bias', 'vision_model.encoder.layers.3.self_attn.q_proj.weight', 'vision_model.encoder.layers.3.self_attn.q_proj.bias', 'vision_model.encoder.layers.3.self_attn.out_proj.weight', 'vision_model.encoder.layers.3.self_attn.out_proj.bias', 'vision_model.encoder.layers.3.layer_norm1.weight', 'vision_model.encoder.layers.3.layer_norm1.bias', 'vision_model.encoder.layers.3.mlp.fc1.weight', 'vision_model.encoder.layers.3.mlp.fc1.bias', 'vision_model.encoder.layers.3.mlp.fc2.weight', 'vision_model.encoder.layers.3.mlp.fc2.bias', 'vision_model.encoder.layers.3.layer_norm2.weight', 'vision_model.encoder.layers.3.layer_norm2.bias', 'vision_model.encoder.layers.4.self_attn.k_proj.weight', 'vision_model.encoder.layers.4.self_attn.k_proj.bias', 'vision_model.encoder.layers.4.self_attn.v_proj.weight', 'vision_model.encoder.layers.4.self_attn.v_proj.bias', 'vision_model.encoder.layers.4.self_attn.q_proj.weight', 'vision_model.encoder.layers.4.self_attn.q_proj.bias', 'vision_model.encoder.layers.4.self_attn.out_proj.weight', 'vision_model.encoder.layers.4.self_attn.out_proj.bias', 'vision_model.encoder.layers.4.layer_norm1.weight', 'vision_model.encoder.layers.4.layer_norm1.bias', 'vision_model.encoder.layers.4.mlp.fc1.weight', 'vision_model.encoder.layers.4.mlp.fc1.bias', 'vision_model.encoder.layers.4.mlp.fc2.weight', 'vision_model.encoder.layers.4.mlp.fc2.bias', 'vision_model.encoder.layers.4.layer_norm2.weight', 'vision_model.encoder.layers.4.layer_norm2.bias', 'vision_model.encoder.layers.5.self_attn.k_proj.weight', 'vision_model.encoder.layers.5.self_attn.k_proj.bias', 'vision_model.encoder.layers.5.self_attn.v_proj.weight', 'vision_model.encoder.layers.5.self_attn.v_proj.bias', 'vision_model.encoder.layers.5.self_attn.q_proj.weight', 'vision_model.encoder.layers.5.self_attn.q_proj.bias', 'vision_model.encoder.layers.5.self_attn.out_proj.weight', 'vision_model.encoder.layers.5.self_attn.out_proj.bias', 'vision_model.encoder.layers.5.layer_norm1.weight', 'vision_model.encoder.layers.5.layer_norm1.bias', 'vision_model.encoder.layers.5.mlp.fc1.weight', 'vision_model.encoder.layers.5.mlp.fc1.bias', 'vision_model.encoder.layers.5.mlp.fc2.weight', 'vision_model.encoder.layers.5.mlp.fc2.bias', 'vision_model.encoder.layers.5.layer_norm2.weight', 'vision_model.encoder.layers.5.layer_norm2.bias', 'vision_model.encoder.layers.6.self_attn.k_proj.weight', 'vision_model.encoder.layers.6.self_attn.k_proj.bias', 'vision_model.encoder.layers.6.self_attn.v_proj.weight', 'vision_model.encoder.layers.6.self_attn.v_proj.bias', 'vision_model.encoder.layers.6.self_attn.q_proj.weight', 'vision_model.encoder.layers.6.self_attn.q_proj.bias', 'vision_model.encoder.layers.6.self_attn.out_proj.weight', 'vision_model.encoder.layers.6.self_attn.out_proj.bias', 'vision_model.encoder.layers.6.layer_norm1.weight', 'vision_model.encoder.layers.6.layer_norm1.bias', 'vision_model.encoder.layers.6.mlp.fc1.weight', 'vision_model.encoder.layers.6.mlp.fc1.bias', 'vision_model.encoder.layers.6.mlp.fc2.weight', 'vision_model.encoder.layers.6.mlp.fc2.bias', 'vision_model.encoder.layers.6.layer_norm2.weight', 'vision_model.encoder.layers.6.layer_norm2.bias', 'vision_model.encoder.layers.7.self_attn.k_proj.weight', 'vision_model.encoder.layers.7.self_attn.k_proj.bias', 'vision_model.encoder.layers.7.self_attn.v_proj.weight', 'vision_model.encoder.layers.7.self_attn.v_proj.bias', 'vision_model.encoder.layers.7.self_attn.q_proj.weight', 'vision_model.encoder.layers.7.self_attn.q_proj.bias', 'vision_model.encoder.layers.7.self_attn.out_proj.weight', 'vision_model.encoder.layers.7.self_attn.out_proj.bias', 'vision_model.encoder.layers.7.layer_norm1.weight', 'vision_model.encoder.layers.7.layer_norm1.bias', 'vision_model.encoder.layers.7.mlp.fc1.weight', 'vision_model.encoder.layers.7.mlp.fc1.bias', 'vision_model.encoder.layers.7.mlp.fc2.weight', 'vision_model.encoder.layers.7.mlp.fc2.bias', 'vision_model.encoder.layers.7.layer_norm2.weight', 'vision_model.encoder.layers.7.layer_norm2.bias', 'vision_model.encoder.layers.8.self_attn.k_proj.weight', 'vision_model.encoder.layers.8.self_attn.k_proj.bias', 'vision_model.encoder.layers.8.self_attn.v_proj.weight', 'vision_model.encoder.layers.8.self_attn.v_proj.bias', 'vision_model.encoder.layers.8.self_attn.q_proj.weight', 'vision_model.encoder.layers.8.self_attn.q_proj.bias', 'vision_model.encoder.layers.8.self_attn.out_proj.weight', 'vision_model.encoder.layers.8.self_attn.out_proj.bias', 'vision_model.encoder.layers.8.layer_norm1.weight', 'vision_model.encoder.layers.8.layer_norm1.bias', 'vision_model.encoder.layers.8.mlp.fc1.weight', 'vision_model.encoder.layers.8.mlp.fc1.bias', 'vision_model.encoder.layers.8.mlp.fc2.weight', 'vision_model.encoder.layers.8.mlp.fc2.bias', 'vision_model.encoder.layers.8.layer_norm2.weight', 'vision_model.encoder.layers.8.layer_norm2.bias', 'vision_model.encoder.layers.9.self_attn.k_proj.weight', 'vision_model.encoder.layers.9.self_attn.k_proj.bias', 'vision_model.encoder.layers.9.self_attn.v_proj.weight', 'vision_model.encoder.layers.9.self_attn.v_proj.bias', 'vision_model.encoder.layers.9.self_attn.q_proj.weight', 'vision_model.encoder.layers.9.self_attn.q_proj.bias', 'vision_model.encoder.layers.9.self_attn.out_proj.weight', 'vision_model.encoder.layers.9.self_attn.out_proj.bias', 'vision_model.encoder.layers.9.layer_norm1.weight', 'vision_model.encoder.layers.9.layer_norm1.bias', 'vision_model.encoder.layers.9.mlp.fc1.weight', 'vision_model.encoder.layers.9.mlp.fc1.bias', 'vision_model.encoder.layers.9.mlp.fc2.weight', 'vision_model.encoder.layers.9.mlp.fc2.bias', 'vision_model.encoder.layers.9.layer_norm2.weight', 'vision_model.encoder.layers.9.layer_norm2.bias', 'vision_model.encoder.layers.10.self_attn.k_proj.weight', 'vision_model.encoder.layers.10.self_attn.k_proj.bias', 'vision_model.encoder.layers.10.self_attn.v_proj.weight', 'vision_model.encoder.layers.10.self_attn.v_proj.bias', 'vision_model.encoder.layers.10.self_attn.q_proj.weight', 'vision_model.encoder.layers.10.self_attn.q_proj.bias', 'vision_model.encoder.layers.10.self_attn.out_proj.weight', 'vision_model.encoder.layers.10.self_attn.out_proj.bias', 'vision_model.encoder.layers.10.layer_norm1.weight', 'vision_model.encoder.layers.10.layer_norm1.bias', 'vision_model.encoder.layers.10.mlp.fc1.weight', 'vision_model.encoder.layers.10.mlp.fc1.bias', 'vision_model.encoder.layers.10.mlp.fc2.weight', 'vision_model.encoder.layers.10.mlp.fc2.bias', 'vision_model.encoder.layers.10.layer_norm2.weight', 'vision_model.encoder.layers.10.layer_norm2.bias', 'vision_model.encoder.layers.11.self_attn.k_proj.weight', 'vision_model.encoder.layers.11.self_attn.k_proj.bias', 'vision_model.encoder.layers.11.self_attn.v_proj.weight', 'vision_model.encoder.layers.11.self_attn.v_proj.bias', 'vision_model.encoder.layers.11.self_attn.q_proj.weight', 'vision_model.encoder.layers.11.self_attn.q_proj.bias', 'vision_model.encoder.layers.11.self_attn.out_proj.weight', 'vision_model.encoder.layers.11.self_attn.out_proj.bias', 'vision_model.encoder.layers.11.layer_norm1.weight', 'vision_model.encoder.layers.11.layer_norm1.bias', 'vision_model.encoder.layers.11.mlp.fc1.weight', 'vision_model.encoder.layers.11.mlp.fc1.bias', 'vision_model.encoder.layers.11.mlp.fc2.weight', 'vision_model.encoder.layers.11.mlp.fc2.bias', 'vision_model.encoder.layers.11.layer_norm2.weight', 'vision_model.encoder.layers.11.layer_norm2.bias', 'vision_model.post_layernorm.weight', 'vision_model.post_layernorm.bias'])"
      ]
     },
     "execution_count": 365,
     "metadata": {},
     "output_type": "execute_result"
    }
   ],
   "source": [
    "model1.state_dict().keys()"
   ]
  },
  {
   "cell_type": "code",
   "execution_count": 216,
   "metadata": {},
   "outputs": [],
   "source": [
    "with torch.no_grad():\n",
    "    outputs1 = model1(images)"
   ]
  },
  {
   "cell_type": "code",
   "execution_count": 318,
   "metadata": {},
   "outputs": [],
   "source": [
    "cls1 = outputs1.last_hidden_state[:,0].view(4, 384,768)"
   ]
  },
  {
   "cell_type": "code",
   "execution_count": 362,
   "metadata": {},
   "outputs": [
    {
     "data": {
      "text/plain": [
       "True"
      ]
     },
     "execution_count": 362,
     "metadata": {},
     "output_type": "execute_result"
    }
   ],
   "source": [
    "#for idx in range(cls1.shape[0]):\n",
    "idx=2\n",
    "cv2.imwrite(os.path.join('./', f'pca_clipvision_{idx}.png'), plot_pca(cls[idx,:-150].numpy())) \n"
   ]
  },
  {
   "cell_type": "code",
   "execution_count": 232,
   "metadata": {},
   "outputs": [
    {
     "data": {
      "text/plain": [
       "1457"
      ]
     },
     "execution_count": 232,
     "metadata": {},
     "output_type": "execute_result"
    }
   ],
   "source": [
    "len(timm.list_models(pretrained=True))"
   ]
  },
  {
   "cell_type": "code",
   "execution_count": 406,
   "metadata": {},
   "outputs": [
    {
     "name": "stdout",
     "output_type": "stream",
     "text": [
      "\u001b[32m[2024-11-21 14:54:21 timm.models._builder]\u001b[0m\u001b[33m(_builder.py 196)\u001b[0m: INFO Loading pretrained weights from Hugging Face hub (timm/vit_base_patch16_clip_224.openai)\n",
      "\u001b[32m[2024-11-21 14:54:21 urllib3.connectionpool]\u001b[0m\u001b[33m(connectionpool.py 291)\u001b[0m: DEBUG Resetting dropped connection: huggingface.co\n",
      "\u001b[32m[2024-11-21 14:54:22 urllib3.connectionpool]\u001b[0m\u001b[33m(connectionpool.py 474)\u001b[0m: DEBUG https://huggingface.co:443 \"HEAD /timm/vit_base_patch16_clip_224.openai/resolve/main/model.safetensors HTTP/1.1\" 404 0\n",
      "\u001b[32m[2024-11-21 14:54:22 urllib3.connectionpool]\u001b[0m\u001b[33m(connectionpool.py 474)\u001b[0m: DEBUG https://huggingface.co:443 \"HEAD /timm/vit_base_patch16_clip_224.openai/resolve/main/pytorch_model.bin HTTP/1.1\" 302 0\n",
      "\u001b[32m[2024-11-21 14:54:22 filelock]\u001b[0m\u001b[33m(_api.py 172)\u001b[0m: DEBUG Attempting to acquire lock 5599694864 on /Users/kanantharaman/.cache/huggingface/hub/.locks/models--timm--vit_base_patch16_clip_224.openai/53b401837e5baa82115d3b6db60c6fff43cfd1a6412e48ed0193d54a69d2f993.lock\n",
      "\u001b[32m[2024-11-21 14:54:22 filelock]\u001b[0m\u001b[33m(_api.py 176)\u001b[0m: DEBUG Lock 5599694864 acquired on /Users/kanantharaman/.cache/huggingface/hub/.locks/models--timm--vit_base_patch16_clip_224.openai/53b401837e5baa82115d3b6db60c6fff43cfd1a6412e48ed0193d54a69d2f993.lock\n",
      "\u001b[32m[2024-11-21 14:54:22 urllib3.connectionpool]\u001b[0m\u001b[33m(connectionpool.py 291)\u001b[0m: DEBUG Resetting dropped connection: cdn-lfs.hf.co\n",
      "\u001b[32m[2024-11-21 14:54:22 urllib3.connectionpool]\u001b[0m\u001b[33m(connectionpool.py 474)\u001b[0m: DEBUG https://cdn-lfs.hf.co:443 \"GET /repos/7e/ab/7eab90d82e99d6c1aca12c938f8d8ce7a15ecd7a09ad769671bb05d726e1ca91/53b401837e5baa82115d3b6db60c6fff43cfd1a6412e48ed0193d54a69d2f993?response-content-disposition=inline%3B+filename*%3DUTF-8%27%27pytorch_model.bin%3B+filename%3D%22pytorch_model.bin%22%3B&response-content-type=application%2Foctet-stream&Expires=1732488115&Policy=eyJTdGF0ZW1lbnQiOlt7IkNvbmRpdGlvbiI6eyJEYXRlTGVzc1RoYW4iOnsiQVdTOkVwb2NoVGltZSI6MTczMjQ4ODExNX19LCJSZXNvdXJjZSI6Imh0dHBzOi8vY2RuLWxmcy5oZi5jby9yZXBvcy83ZS9hYi83ZWFiOTBkODJlOTlkNmMxYWNhMTJjOTM4ZjhkOGNlN2ExNWVjZDdhMDlhZDc2OTY3MWJiMDVkNzI2ZTFjYTkxLzUzYjQwMTgzN2U1YmFhODIxMTVkM2I2ZGI2MGM2ZmZmNDNjZmQxYTY0MTJlNDhlZDAxOTNkNTRhNjlkMmY5OTM~cmVzcG9uc2UtY29udGVudC1kaXNwb3NpdGlvbj0qJnJlc3BvbnNlLWNvbnRlbnQtdHlwZT0qIn1dfQ__&Signature=vb4qq74C93MlVo9s07~HzsnCnH2VGYNTDdfeI3TweDJrc9Z9WDzntAUWdkPmZ5~QosNp86cDd2-vwQcoxyhWvj9TwBxT58W6-jqiwQQgZg~4dGpBv47GF7slIn9dHyEUVOtl8TfkXB73~~0ozxcl7QuRaYnTxRN3UwWfztmEVSjOsKxBNemVObMQ6Ex~yMXTRtJIZEEdYlw3vcEbqLX0igudu6Y2kxFTLst62Hf7~L~FZSbdi4QF4f4XPy47i4hN~HZm2S6knmwwaS4uOadFQoeT0PKsKowkQKWnEbdMBJR~dLzom2iwrEwaOVYl8msj1u63220OiMGGHQM5MxU3dw__&Key-Pair-Id=K3RPWS32NSSJCE HTTP/1.1\" 200 598594981\n"
     ]
    },
    {
     "data": {
      "application/vnd.jupyter.widget-view+json": {
       "model_id": "f0e7c39c793548b995cb4cd685d4f5c9",
       "version_major": 2,
       "version_minor": 0
      },
      "text/plain": [
       "pytorch_model.bin:   0%|          | 0.00/599M [00:00<?, ?B/s]"
      ]
     },
     "metadata": {},
     "output_type": "display_data"
    },
    {
     "name": "stdout",
     "output_type": "stream",
     "text": [
      "\u001b[32m[2024-11-21 14:56:22 filelock]\u001b[0m\u001b[33m(_api.py 209)\u001b[0m: DEBUG Attempting to release lock 5599694864 on /Users/kanantharaman/.cache/huggingface/hub/.locks/models--timm--vit_base_patch16_clip_224.openai/53b401837e5baa82115d3b6db60c6fff43cfd1a6412e48ed0193d54a69d2f993.lock\n",
      "\u001b[32m[2024-11-21 14:56:22 filelock]\u001b[0m\u001b[33m(_api.py 212)\u001b[0m: DEBUG Lock 5599694864 released on /Users/kanantharaman/.cache/huggingface/hub/.locks/models--timm--vit_base_patch16_clip_224.openai/53b401837e5baa82115d3b6db60c6fff43cfd1a6412e48ed0193d54a69d2f993.lock\n",
      "\u001b[32m[2024-11-21 14:56:22 timm.models._hub]\u001b[0m\u001b[33m(_hub.py 193)\u001b[0m: DEBUG [timm/vit_base_patch16_clip_224.openai] Safe alternative not found for 'pytorch_model.bin'. Loading weights using default pytorch.\n"
     ]
    }
   ],
   "source": [
    "model4 = timm.create_model('vit_base_patch16_clip_224.openai', pretrained=True)"
   ]
  },
  {
   "cell_type": "code",
   "execution_count": 407,
   "metadata": {},
   "outputs": [
    {
     "data": {
      "text/plain": [
       "odict_keys(['cls_token', 'pos_embed', 'patch_embed.proj.weight', 'norm_pre.weight', 'norm_pre.bias', 'blocks.0.norm1.weight', 'blocks.0.norm1.bias', 'blocks.0.attn.qkv.weight', 'blocks.0.attn.qkv.bias', 'blocks.0.attn.proj.weight', 'blocks.0.attn.proj.bias', 'blocks.0.norm2.weight', 'blocks.0.norm2.bias', 'blocks.0.mlp.fc1.weight', 'blocks.0.mlp.fc1.bias', 'blocks.0.mlp.fc2.weight', 'blocks.0.mlp.fc2.bias', 'blocks.1.norm1.weight', 'blocks.1.norm1.bias', 'blocks.1.attn.qkv.weight', 'blocks.1.attn.qkv.bias', 'blocks.1.attn.proj.weight', 'blocks.1.attn.proj.bias', 'blocks.1.norm2.weight', 'blocks.1.norm2.bias', 'blocks.1.mlp.fc1.weight', 'blocks.1.mlp.fc1.bias', 'blocks.1.mlp.fc2.weight', 'blocks.1.mlp.fc2.bias', 'blocks.2.norm1.weight', 'blocks.2.norm1.bias', 'blocks.2.attn.qkv.weight', 'blocks.2.attn.qkv.bias', 'blocks.2.attn.proj.weight', 'blocks.2.attn.proj.bias', 'blocks.2.norm2.weight', 'blocks.2.norm2.bias', 'blocks.2.mlp.fc1.weight', 'blocks.2.mlp.fc1.bias', 'blocks.2.mlp.fc2.weight', 'blocks.2.mlp.fc2.bias', 'blocks.3.norm1.weight', 'blocks.3.norm1.bias', 'blocks.3.attn.qkv.weight', 'blocks.3.attn.qkv.bias', 'blocks.3.attn.proj.weight', 'blocks.3.attn.proj.bias', 'blocks.3.norm2.weight', 'blocks.3.norm2.bias', 'blocks.3.mlp.fc1.weight', 'blocks.3.mlp.fc1.bias', 'blocks.3.mlp.fc2.weight', 'blocks.3.mlp.fc2.bias', 'blocks.4.norm1.weight', 'blocks.4.norm1.bias', 'blocks.4.attn.qkv.weight', 'blocks.4.attn.qkv.bias', 'blocks.4.attn.proj.weight', 'blocks.4.attn.proj.bias', 'blocks.4.norm2.weight', 'blocks.4.norm2.bias', 'blocks.4.mlp.fc1.weight', 'blocks.4.mlp.fc1.bias', 'blocks.4.mlp.fc2.weight', 'blocks.4.mlp.fc2.bias', 'blocks.5.norm1.weight', 'blocks.5.norm1.bias', 'blocks.5.attn.qkv.weight', 'blocks.5.attn.qkv.bias', 'blocks.5.attn.proj.weight', 'blocks.5.attn.proj.bias', 'blocks.5.norm2.weight', 'blocks.5.norm2.bias', 'blocks.5.mlp.fc1.weight', 'blocks.5.mlp.fc1.bias', 'blocks.5.mlp.fc2.weight', 'blocks.5.mlp.fc2.bias', 'blocks.6.norm1.weight', 'blocks.6.norm1.bias', 'blocks.6.attn.qkv.weight', 'blocks.6.attn.qkv.bias', 'blocks.6.attn.proj.weight', 'blocks.6.attn.proj.bias', 'blocks.6.norm2.weight', 'blocks.6.norm2.bias', 'blocks.6.mlp.fc1.weight', 'blocks.6.mlp.fc1.bias', 'blocks.6.mlp.fc2.weight', 'blocks.6.mlp.fc2.bias', 'blocks.7.norm1.weight', 'blocks.7.norm1.bias', 'blocks.7.attn.qkv.weight', 'blocks.7.attn.qkv.bias', 'blocks.7.attn.proj.weight', 'blocks.7.attn.proj.bias', 'blocks.7.norm2.weight', 'blocks.7.norm2.bias', 'blocks.7.mlp.fc1.weight', 'blocks.7.mlp.fc1.bias', 'blocks.7.mlp.fc2.weight', 'blocks.7.mlp.fc2.bias', 'blocks.8.norm1.weight', 'blocks.8.norm1.bias', 'blocks.8.attn.qkv.weight', 'blocks.8.attn.qkv.bias', 'blocks.8.attn.proj.weight', 'blocks.8.attn.proj.bias', 'blocks.8.norm2.weight', 'blocks.8.norm2.bias', 'blocks.8.mlp.fc1.weight', 'blocks.8.mlp.fc1.bias', 'blocks.8.mlp.fc2.weight', 'blocks.8.mlp.fc2.bias', 'blocks.9.norm1.weight', 'blocks.9.norm1.bias', 'blocks.9.attn.qkv.weight', 'blocks.9.attn.qkv.bias', 'blocks.9.attn.proj.weight', 'blocks.9.attn.proj.bias', 'blocks.9.norm2.weight', 'blocks.9.norm2.bias', 'blocks.9.mlp.fc1.weight', 'blocks.9.mlp.fc1.bias', 'blocks.9.mlp.fc2.weight', 'blocks.9.mlp.fc2.bias', 'blocks.10.norm1.weight', 'blocks.10.norm1.bias', 'blocks.10.attn.qkv.weight', 'blocks.10.attn.qkv.bias', 'blocks.10.attn.proj.weight', 'blocks.10.attn.proj.bias', 'blocks.10.norm2.weight', 'blocks.10.norm2.bias', 'blocks.10.mlp.fc1.weight', 'blocks.10.mlp.fc1.bias', 'blocks.10.mlp.fc2.weight', 'blocks.10.mlp.fc2.bias', 'blocks.11.norm1.weight', 'blocks.11.norm1.bias', 'blocks.11.attn.qkv.weight', 'blocks.11.attn.qkv.bias', 'blocks.11.attn.proj.weight', 'blocks.11.attn.proj.bias', 'blocks.11.norm2.weight', 'blocks.11.norm2.bias', 'blocks.11.mlp.fc1.weight', 'blocks.11.mlp.fc1.bias', 'blocks.11.mlp.fc2.weight', 'blocks.11.mlp.fc2.bias', 'norm.weight', 'norm.bias', 'head.weight', 'head.bias'])"
      ]
     },
     "execution_count": 407,
     "metadata": {},
     "output_type": "execute_result"
    }
   ],
   "source": [
    "model4.state_dict().keys()"
   ]
  },
  {
   "cell_type": "code",
   "execution_count": 25,
   "metadata": {},
   "outputs": [],
   "source": [
    "from xclip.clip.clip import load_vit"
   ]
  },
  {
   "cell_type": "code",
   "execution_count": 68,
   "metadata": {},
   "outputs": [
    {
     "name": "stdout",
     "output_type": "stream",
     "text": [
      "\u001b[32m[2024-11-22 21:24:12 root]\u001b[0m\u001b[33m(factory.py 296)\u001b[0m: INFO Loaded ViT-B-16 model config.\n",
      "\u001b[32m[2024-11-22 21:24:14 urllib3.connectionpool]\u001b[0m\u001b[33m(connectionpool.py 291)\u001b[0m: DEBUG Resetting dropped connection: huggingface.co\n",
      "\u001b[32m[2024-11-22 21:24:14 urllib3.connectionpool]\u001b[0m\u001b[33m(connectionpool.py 474)\u001b[0m: DEBUG https://huggingface.co:443 \"HEAD /timm/vit_base_patch16_clip_224.laion400m_e31/resolve/main/open_clip_model.safetensors HTTP/1.1\" 302 0\n",
      "\u001b[32m[2024-11-22 21:24:14 filelock]\u001b[0m\u001b[33m(_api.py 172)\u001b[0m: DEBUG Attempting to acquire lock 7412693776 on /Users/kanantharaman/.cache/huggingface/hub/.locks/models--timm--vit_base_patch16_clip_224.laion400m_e31/e94aaa95b532107ed4453989dff56def08fc93f60df77add1e1087a51624559e.lock\n",
      "\u001b[32m[2024-11-22 21:24:14 filelock]\u001b[0m\u001b[33m(_api.py 176)\u001b[0m: DEBUG Lock 7412693776 acquired on /Users/kanantharaman/.cache/huggingface/hub/.locks/models--timm--vit_base_patch16_clip_224.laion400m_e31/e94aaa95b532107ed4453989dff56def08fc93f60df77add1e1087a51624559e.lock\n",
      "\u001b[32m[2024-11-22 21:24:14 urllib3.connectionpool]\u001b[0m\u001b[33m(connectionpool.py 1021)\u001b[0m: DEBUG Starting new HTTPS connection (1): cdn-lfs-us-1.hf.co:443\n",
      "\u001b[32m[2024-11-22 21:24:14 urllib3.connectionpool]\u001b[0m\u001b[33m(connectionpool.py 474)\u001b[0m: DEBUG https://cdn-lfs-us-1.hf.co:443 \"GET /repos/c9/27/c927a242e5a8ed7ffc76932a4d3d613c05b961be33a0cf1b3ed273ce8eeefc7a/e94aaa95b532107ed4453989dff56def08fc93f60df77add1e1087a51624559e?response-content-disposition=inline%3B+filename*%3DUTF-8%27%27open_clip_model.safetensors%3B+filename%3D%22open_clip_model.safetensors%22%3B&Expires=1732598654&Policy=eyJTdGF0ZW1lbnQiOlt7IkNvbmRpdGlvbiI6eyJEYXRlTGVzc1RoYW4iOnsiQVdTOkVwb2NoVGltZSI6MTczMjU5ODY1NH19LCJSZXNvdXJjZSI6Imh0dHBzOi8vY2RuLWxmcy11cy0xLmhmLmNvL3JlcG9zL2M5LzI3L2M5MjdhMjQyZTVhOGVkN2ZmYzc2OTMyYTRkM2Q2MTNjMDViOTYxYmUzM2EwY2YxYjNlZDI3M2NlOGVlZWZjN2EvZTk0YWFhOTViNTMyMTA3ZWQ0NDUzOTg5ZGZmNTZkZWYwOGZjOTNmNjBkZjc3YWRkMWUxMDg3YTUxNjI0NTU5ZT9yZXNwb25zZS1jb250ZW50LWRpc3Bvc2l0aW9uPSoifV19&Signature=b0A11SUF-6WLqxhyJsMGXmPP-EWYNIWb6V9-uu1oHFhjcGTlCW0bSmqJdinXgHT1DGshgG71~cqxwcgF-FDH8stqGwsGeVOQ7Cn3zu9q7L74DpOiraLpnR6iKBQNe7YDI~hGx64laBpVtf~zcJp3BEmPzS2e5gFSbfq8UFYlZ20AuRzVs594gbOoW-P-v5pknBgPsgBG3qrZcPchHbNssTa4vtKIB1AfzAFICYdIMKEjXFdEBNEam1KOCwEQ2Qd2JRXcvK~fnmIlN-C5ASjHpxWFKquxrw~YrEnhB8rKrrUnZXX7XTrJC9UO1k7h~tAtwb6TfHYzrhdITA29Ibh-MA__&Key-Pair-Id=K24J24Z295AEI9 HTTP/1.1\" 200 598516980\n"
     ]
    },
    {
     "data": {
      "application/vnd.jupyter.widget-view+json": {
       "model_id": "c64b60c816fa4572b6fe4de8bcb321bb",
       "version_major": 2,
       "version_minor": 0
      },
      "text/plain": [
       "open_clip_model.safetensors:   0%|          | 0.00/599M [00:00<?, ?B/s]"
      ]
     },
     "metadata": {},
     "output_type": "display_data"
    },
    {
     "name": "stdout",
     "output_type": "stream",
     "text": [
      "\u001b[32m[2024-11-22 21:25:24 filelock]\u001b[0m\u001b[33m(_api.py 209)\u001b[0m: DEBUG Attempting to release lock 7412693776 on /Users/kanantharaman/.cache/huggingface/hub/.locks/models--timm--vit_base_patch16_clip_224.laion400m_e31/e94aaa95b532107ed4453989dff56def08fc93f60df77add1e1087a51624559e.lock\n",
      "\u001b[32m[2024-11-22 21:25:24 filelock]\u001b[0m\u001b[33m(_api.py 212)\u001b[0m: DEBUG Lock 7412693776 released on /Users/kanantharaman/.cache/huggingface/hub/.locks/models--timm--vit_base_patch16_clip_224.laion400m_e31/e94aaa95b532107ed4453989dff56def08fc93f60df77add1e1087a51624559e.lock\n",
      "\u001b[32m[2024-11-22 21:25:24 root]\u001b[0m\u001b[33m(factory.py 383)\u001b[0m: INFO Loading pretrained ViT-B-16 weights (laion400m_e31).\n"
     ]
    }
   ],
   "source": [
    "model = load_vit(None,'ViT-B-16', device=\"cpu\", jit=False,pretrained='laion400m_e31')"
   ]
  },
  {
   "cell_type": "code",
   "execution_count": 35,
   "metadata": {},
   "outputs": [
    {
     "data": {
      "text/plain": [
       "====================================================================================================\n",
       "Layer (type:depth-idx)                             Output Shape              Param #\n",
       "====================================================================================================\n",
       "CLIPVision                                         [1536, 512]               --\n",
       "├─VisionTransformer: 1-1                           [1536, 512]               545,280\n",
       "│    └─Conv2d: 2-1                                 [1536, 768, 14, 14]       589,824\n",
       "│    └─LayerNorm: 2-2                              [1536, 197, 768]          1,536\n",
       "│    └─Transformer: 2-3                            [197, 1536, 768]          --\n",
       "│    │    └─Sequential: 3-1                        [197, 1536, 768]          85,054,464\n",
       "│    └─LayerNorm: 2-4                              [1536, 768]               1,536\n",
       "====================================================================================================\n",
       "Total params: 86,192,640\n",
       "Trainable params: 86,192,640\n",
       "Non-trainable params: 0\n",
       "Total mult-adds (Units.GIGABYTES): 188.75\n",
       "====================================================================================================\n",
       "Input size (MB): 924.84\n",
       "Forward/backward pass size (MB): 159884.77\n",
       "Params size (MB): 229.20\n",
       "Estimated Total Size (MB): 161038.81\n",
       "===================================================================================================="
      ]
     },
     "execution_count": 35,
     "metadata": {},
     "output_type": "execute_result"
    }
   ],
   "source": [
    "summary(model, input_size=images.shape)"
   ]
  },
  {
   "cell_type": "code",
   "execution_count": 69,
   "metadata": {},
   "outputs": [
    {
     "data": {
      "text/plain": [
       "12"
      ]
     },
     "execution_count": 69,
     "metadata": {},
     "output_type": "execute_result"
    }
   ],
   "source": [
    "len([k for k in model.state_dict().keys() if k.startswith(\"visual.\") and k.endswith(\".attn.in_proj_weight\")])"
   ]
  },
  {
   "cell_type": "code",
   "execution_count": 255,
   "metadata": {},
   "outputs": [],
   "source": [
    "cls = outputs.view(4,384,512)"
   ]
  },
  {
   "cell_type": "code",
   "execution_count": 256,
   "metadata": {},
   "outputs": [
    {
     "data": {
      "text/plain": [
       "torch.Size([4, 384, 512])"
      ]
     },
     "execution_count": 256,
     "metadata": {},
     "output_type": "execute_result"
    }
   ],
   "source": [
    "cls.shape"
   ]
  },
  {
   "cell_type": "code",
   "execution_count": 271,
   "metadata": {},
   "outputs": [
    {
     "data": {
      "text/plain": [
       "==============================================================================================================\n",
       "Layer (type:depth-idx)                                       Output Shape              Param #\n",
       "==============================================================================================================\n",
       "CLIPVisionModel                                              [1536, 768]               --\n",
       "├─CLIPVisionTransformer: 1-1                                 [1536, 768]               --\n",
       "│    └─CLIPVisionEmbeddings: 2-1                             [1536, 197, 768]          768\n",
       "│    │    └─Conv2d: 3-1                                      [1536, 768, 14, 14]       589,824\n",
       "│    │    └─Embedding: 3-2                                   [1, 197, 768]             151,296\n",
       "│    └─LayerNorm: 2-2                                        [1536, 197, 768]          1,536\n",
       "│    └─CLIPEncoder: 2-3                                      [1536, 197, 768]          --\n",
       "│    │    └─ModuleList: 3-3                                  --                        85,054,464\n",
       "│    └─LayerNorm: 2-4                                        [1536, 768]               1,536\n",
       "==============================================================================================================\n",
       "Total params: 85,799,424\n",
       "Trainable params: 85,799,424\n",
       "Non-trainable params: 0\n",
       "Total mult-adds (Units.GIGABYTES): 308.22\n",
       "==============================================================================================================\n",
       "Input size (MB): 924.84\n",
       "Forward/backward pass size (MB): 249123.99\n",
       "Params size (MB): 343.19\n",
       "Estimated Total Size (MB): 250392.03\n",
       "=============================================================================================================="
      ]
     },
     "execution_count": 271,
     "metadata": {},
     "output_type": "execute_result"
    }
   ],
   "source": [
    "summary(model1, input_size=images.shape)"
   ]
  },
  {
   "cell_type": "code",
   "execution_count": 39,
   "metadata": {},
   "outputs": [
    {
     "name": "stdout",
     "output_type": "stream",
     "text": [
      "visual.class_embedding torch.Size([768])\n",
      "visual.positional_embedding torch.Size([197, 768])\n",
      "visual.proj torch.Size([768, 512])\n",
      "visual.conv1.weight torch.Size([768, 3, 16, 16])\n",
      "visual.ln_pre.weight torch.Size([768])\n",
      "visual.ln_pre.bias torch.Size([768])\n",
      "visual.transformer.resblocks.0.attn.in_proj_weight torch.Size([2304, 768])\n",
      "visual.transformer.resblocks.0.attn.in_proj_bias torch.Size([2304])\n",
      "visual.transformer.resblocks.0.attn.out_proj.weight torch.Size([768, 768])\n",
      "visual.transformer.resblocks.0.attn.out_proj.bias torch.Size([768])\n",
      "visual.transformer.resblocks.0.ln_1.weight torch.Size([768])\n",
      "visual.transformer.resblocks.0.ln_1.bias torch.Size([768])\n",
      "visual.transformer.resblocks.0.mlp.c_fc.weight torch.Size([3072, 768])\n",
      "visual.transformer.resblocks.0.mlp.c_fc.bias torch.Size([3072])\n",
      "visual.transformer.resblocks.0.mlp.c_proj.weight torch.Size([768, 3072])\n",
      "visual.transformer.resblocks.0.mlp.c_proj.bias torch.Size([768])\n",
      "visual.transformer.resblocks.0.ln_2.weight torch.Size([768])\n",
      "visual.transformer.resblocks.0.ln_2.bias torch.Size([768])\n",
      "visual.transformer.resblocks.1.attn.in_proj_weight torch.Size([2304, 768])\n",
      "visual.transformer.resblocks.1.attn.in_proj_bias torch.Size([2304])\n",
      "visual.transformer.resblocks.1.attn.out_proj.weight torch.Size([768, 768])\n",
      "visual.transformer.resblocks.1.attn.out_proj.bias torch.Size([768])\n",
      "visual.transformer.resblocks.1.ln_1.weight torch.Size([768])\n",
      "visual.transformer.resblocks.1.ln_1.bias torch.Size([768])\n",
      "visual.transformer.resblocks.1.mlp.c_fc.weight torch.Size([3072, 768])\n",
      "visual.transformer.resblocks.1.mlp.c_fc.bias torch.Size([3072])\n",
      "visual.transformer.resblocks.1.mlp.c_proj.weight torch.Size([768, 3072])\n",
      "visual.transformer.resblocks.1.mlp.c_proj.bias torch.Size([768])\n",
      "visual.transformer.resblocks.1.ln_2.weight torch.Size([768])\n",
      "visual.transformer.resblocks.1.ln_2.bias torch.Size([768])\n",
      "visual.transformer.resblocks.2.attn.in_proj_weight torch.Size([2304, 768])\n",
      "visual.transformer.resblocks.2.attn.in_proj_bias torch.Size([2304])\n",
      "visual.transformer.resblocks.2.attn.out_proj.weight torch.Size([768, 768])\n",
      "visual.transformer.resblocks.2.attn.out_proj.bias torch.Size([768])\n",
      "visual.transformer.resblocks.2.ln_1.weight torch.Size([768])\n",
      "visual.transformer.resblocks.2.ln_1.bias torch.Size([768])\n",
      "visual.transformer.resblocks.2.mlp.c_fc.weight torch.Size([3072, 768])\n",
      "visual.transformer.resblocks.2.mlp.c_fc.bias torch.Size([3072])\n",
      "visual.transformer.resblocks.2.mlp.c_proj.weight torch.Size([768, 3072])\n",
      "visual.transformer.resblocks.2.mlp.c_proj.bias torch.Size([768])\n",
      "visual.transformer.resblocks.2.ln_2.weight torch.Size([768])\n",
      "visual.transformer.resblocks.2.ln_2.bias torch.Size([768])\n",
      "visual.transformer.resblocks.3.attn.in_proj_weight torch.Size([2304, 768])\n",
      "visual.transformer.resblocks.3.attn.in_proj_bias torch.Size([2304])\n",
      "visual.transformer.resblocks.3.attn.out_proj.weight torch.Size([768, 768])\n",
      "visual.transformer.resblocks.3.attn.out_proj.bias torch.Size([768])\n",
      "visual.transformer.resblocks.3.ln_1.weight torch.Size([768])\n",
      "visual.transformer.resblocks.3.ln_1.bias torch.Size([768])\n",
      "visual.transformer.resblocks.3.mlp.c_fc.weight torch.Size([3072, 768])\n",
      "visual.transformer.resblocks.3.mlp.c_fc.bias torch.Size([3072])\n",
      "visual.transformer.resblocks.3.mlp.c_proj.weight torch.Size([768, 3072])\n",
      "visual.transformer.resblocks.3.mlp.c_proj.bias torch.Size([768])\n",
      "visual.transformer.resblocks.3.ln_2.weight torch.Size([768])\n",
      "visual.transformer.resblocks.3.ln_2.bias torch.Size([768])\n",
      "visual.transformer.resblocks.4.attn.in_proj_weight torch.Size([2304, 768])\n",
      "visual.transformer.resblocks.4.attn.in_proj_bias torch.Size([2304])\n",
      "visual.transformer.resblocks.4.attn.out_proj.weight torch.Size([768, 768])\n",
      "visual.transformer.resblocks.4.attn.out_proj.bias torch.Size([768])\n",
      "visual.transformer.resblocks.4.ln_1.weight torch.Size([768])\n",
      "visual.transformer.resblocks.4.ln_1.bias torch.Size([768])\n",
      "visual.transformer.resblocks.4.mlp.c_fc.weight torch.Size([3072, 768])\n",
      "visual.transformer.resblocks.4.mlp.c_fc.bias torch.Size([3072])\n",
      "visual.transformer.resblocks.4.mlp.c_proj.weight torch.Size([768, 3072])\n",
      "visual.transformer.resblocks.4.mlp.c_proj.bias torch.Size([768])\n",
      "visual.transformer.resblocks.4.ln_2.weight torch.Size([768])\n",
      "visual.transformer.resblocks.4.ln_2.bias torch.Size([768])\n",
      "visual.transformer.resblocks.5.attn.in_proj_weight torch.Size([2304, 768])\n",
      "visual.transformer.resblocks.5.attn.in_proj_bias torch.Size([2304])\n",
      "visual.transformer.resblocks.5.attn.out_proj.weight torch.Size([768, 768])\n",
      "visual.transformer.resblocks.5.attn.out_proj.bias torch.Size([768])\n",
      "visual.transformer.resblocks.5.ln_1.weight torch.Size([768])\n",
      "visual.transformer.resblocks.5.ln_1.bias torch.Size([768])\n",
      "visual.transformer.resblocks.5.mlp.c_fc.weight torch.Size([3072, 768])\n",
      "visual.transformer.resblocks.5.mlp.c_fc.bias torch.Size([3072])\n",
      "visual.transformer.resblocks.5.mlp.c_proj.weight torch.Size([768, 3072])\n",
      "visual.transformer.resblocks.5.mlp.c_proj.bias torch.Size([768])\n",
      "visual.transformer.resblocks.5.ln_2.weight torch.Size([768])\n",
      "visual.transformer.resblocks.5.ln_2.bias torch.Size([768])\n",
      "visual.transformer.resblocks.6.attn.in_proj_weight torch.Size([2304, 768])\n",
      "visual.transformer.resblocks.6.attn.in_proj_bias torch.Size([2304])\n",
      "visual.transformer.resblocks.6.attn.out_proj.weight torch.Size([768, 768])\n",
      "visual.transformer.resblocks.6.attn.out_proj.bias torch.Size([768])\n",
      "visual.transformer.resblocks.6.ln_1.weight torch.Size([768])\n",
      "visual.transformer.resblocks.6.ln_1.bias torch.Size([768])\n",
      "visual.transformer.resblocks.6.mlp.c_fc.weight torch.Size([3072, 768])\n",
      "visual.transformer.resblocks.6.mlp.c_fc.bias torch.Size([3072])\n",
      "visual.transformer.resblocks.6.mlp.c_proj.weight torch.Size([768, 3072])\n",
      "visual.transformer.resblocks.6.mlp.c_proj.bias torch.Size([768])\n",
      "visual.transformer.resblocks.6.ln_2.weight torch.Size([768])\n",
      "visual.transformer.resblocks.6.ln_2.bias torch.Size([768])\n",
      "visual.transformer.resblocks.7.attn.in_proj_weight torch.Size([2304, 768])\n",
      "visual.transformer.resblocks.7.attn.in_proj_bias torch.Size([2304])\n",
      "visual.transformer.resblocks.7.attn.out_proj.weight torch.Size([768, 768])\n",
      "visual.transformer.resblocks.7.attn.out_proj.bias torch.Size([768])\n",
      "visual.transformer.resblocks.7.ln_1.weight torch.Size([768])\n",
      "visual.transformer.resblocks.7.ln_1.bias torch.Size([768])\n",
      "visual.transformer.resblocks.7.mlp.c_fc.weight torch.Size([3072, 768])\n",
      "visual.transformer.resblocks.7.mlp.c_fc.bias torch.Size([3072])\n",
      "visual.transformer.resblocks.7.mlp.c_proj.weight torch.Size([768, 3072])\n",
      "visual.transformer.resblocks.7.mlp.c_proj.bias torch.Size([768])\n",
      "visual.transformer.resblocks.7.ln_2.weight torch.Size([768])\n",
      "visual.transformer.resblocks.7.ln_2.bias torch.Size([768])\n",
      "visual.transformer.resblocks.8.attn.in_proj_weight torch.Size([2304, 768])\n",
      "visual.transformer.resblocks.8.attn.in_proj_bias torch.Size([2304])\n",
      "visual.transformer.resblocks.8.attn.out_proj.weight torch.Size([768, 768])\n",
      "visual.transformer.resblocks.8.attn.out_proj.bias torch.Size([768])\n",
      "visual.transformer.resblocks.8.ln_1.weight torch.Size([768])\n",
      "visual.transformer.resblocks.8.ln_1.bias torch.Size([768])\n",
      "visual.transformer.resblocks.8.mlp.c_fc.weight torch.Size([3072, 768])\n",
      "visual.transformer.resblocks.8.mlp.c_fc.bias torch.Size([3072])\n",
      "visual.transformer.resblocks.8.mlp.c_proj.weight torch.Size([768, 3072])\n",
      "visual.transformer.resblocks.8.mlp.c_proj.bias torch.Size([768])\n",
      "visual.transformer.resblocks.8.ln_2.weight torch.Size([768])\n",
      "visual.transformer.resblocks.8.ln_2.bias torch.Size([768])\n",
      "visual.transformer.resblocks.9.attn.in_proj_weight torch.Size([2304, 768])\n",
      "visual.transformer.resblocks.9.attn.in_proj_bias torch.Size([2304])\n",
      "visual.transformer.resblocks.9.attn.out_proj.weight torch.Size([768, 768])\n",
      "visual.transformer.resblocks.9.attn.out_proj.bias torch.Size([768])\n",
      "visual.transformer.resblocks.9.ln_1.weight torch.Size([768])\n",
      "visual.transformer.resblocks.9.ln_1.bias torch.Size([768])\n",
      "visual.transformer.resblocks.9.mlp.c_fc.weight torch.Size([3072, 768])\n",
      "visual.transformer.resblocks.9.mlp.c_fc.bias torch.Size([3072])\n",
      "visual.transformer.resblocks.9.mlp.c_proj.weight torch.Size([768, 3072])\n",
      "visual.transformer.resblocks.9.mlp.c_proj.bias torch.Size([768])\n",
      "visual.transformer.resblocks.9.ln_2.weight torch.Size([768])\n",
      "visual.transformer.resblocks.9.ln_2.bias torch.Size([768])\n",
      "visual.transformer.resblocks.10.attn.in_proj_weight torch.Size([2304, 768])\n",
      "visual.transformer.resblocks.10.attn.in_proj_bias torch.Size([2304])\n",
      "visual.transformer.resblocks.10.attn.out_proj.weight torch.Size([768, 768])\n",
      "visual.transformer.resblocks.10.attn.out_proj.bias torch.Size([768])\n",
      "visual.transformer.resblocks.10.ln_1.weight torch.Size([768])\n",
      "visual.transformer.resblocks.10.ln_1.bias torch.Size([768])\n",
      "visual.transformer.resblocks.10.mlp.c_fc.weight torch.Size([3072, 768])\n",
      "visual.transformer.resblocks.10.mlp.c_fc.bias torch.Size([3072])\n",
      "visual.transformer.resblocks.10.mlp.c_proj.weight torch.Size([768, 3072])\n",
      "visual.transformer.resblocks.10.mlp.c_proj.bias torch.Size([768])\n",
      "visual.transformer.resblocks.10.ln_2.weight torch.Size([768])\n",
      "visual.transformer.resblocks.10.ln_2.bias torch.Size([768])\n",
      "visual.transformer.resblocks.11.attn.in_proj_weight torch.Size([2304, 768])\n",
      "visual.transformer.resblocks.11.attn.in_proj_bias torch.Size([2304])\n",
      "visual.transformer.resblocks.11.attn.out_proj.weight torch.Size([768, 768])\n",
      "visual.transformer.resblocks.11.attn.out_proj.bias torch.Size([768])\n",
      "visual.transformer.resblocks.11.ln_1.weight torch.Size([768])\n",
      "visual.transformer.resblocks.11.ln_1.bias torch.Size([768])\n",
      "visual.transformer.resblocks.11.mlp.c_fc.weight torch.Size([3072, 768])\n",
      "visual.transformer.resblocks.11.mlp.c_fc.bias torch.Size([3072])\n",
      "visual.transformer.resblocks.11.mlp.c_proj.weight torch.Size([768, 3072])\n",
      "visual.transformer.resblocks.11.mlp.c_proj.bias torch.Size([768])\n",
      "visual.transformer.resblocks.11.ln_2.weight torch.Size([768])\n",
      "visual.transformer.resblocks.11.ln_2.bias torch.Size([768])\n",
      "visual.ln_post.weight torch.Size([768])\n",
      "visual.ln_post.bias torch.Size([768])\n"
     ]
    }
   ],
   "source": [
    "for name, param in model.named_parameters():\n",
    "    print(name, param.shape)"
   ]
  },
  {
   "cell_type": "code",
   "execution_count": 283,
   "metadata": {},
   "outputs": [
    {
     "data": {
      "text/plain": [
       "torch.Size([1536, 3, 224, 224])"
      ]
     },
     "execution_count": 283,
     "metadata": {},
     "output_type": "execute_result"
    }
   ],
   "source": [
    "images.view(4,3,224,224).shape"
   ]
  },
  {
   "cell_type": "code",
   "execution_count": 290,
   "metadata": {},
   "outputs": [
    {
     "name": "stdout",
     "output_type": "stream",
     "text": [
      "torch.Size([1536, 768, 14, 14])\n",
      "torch.Size([1536, 768, 196])\n",
      "torch.Size([1536, 196, 768])\n",
      "torch.Size([1536, 197, 768])\n",
      "torch.Size([1536, 197, 768])\n"
     ]
    },
    {
     "data": {
      "text/plain": [
       "====================================================================================================\n",
       "Layer (type:depth-idx)                             Output Shape              Param #\n",
       "====================================================================================================\n",
       "CrossFrameCommunicationTransformerv1               [4, 384, 512]             545,280\n",
       "├─Conv2d: 1-1                                      [1536, 768, 14, 14]       589,824\n",
       "├─LayerNorm: 1-2                                   [1536, 197, 768]          1,536\n",
       "├─Transformer: 1-3                                 [197, 1536, 768]          --\n",
       "│    └─Sequential: 2-1                             [197, 1536, 768]          --\n",
       "│    │    └─CrossFramelAttentionBlock: 3-1         [197, 1536, 768]          10,042,368\n",
       "│    │    └─CrossFramelAttentionBlock: 3-2         [197, 1536, 768]          10,042,368\n",
       "│    │    └─CrossFramelAttentionBlock: 3-3         [197, 1536, 768]          10,042,368\n",
       "│    │    └─CrossFramelAttentionBlock: 3-4         [197, 1536, 768]          10,042,368\n",
       "│    │    └─CrossFramelAttentionBlock: 3-5         [197, 1536, 768]          10,042,368\n",
       "│    │    └─CrossFramelAttentionBlock: 3-6         [197, 1536, 768]          10,042,368\n",
       "│    │    └─CrossFramelAttentionBlock: 3-7         [197, 1536, 768]          10,042,368\n",
       "│    │    └─CrossFramelAttentionBlock: 3-8         [197, 1536, 768]          10,042,368\n",
       "│    │    └─CrossFramelAttentionBlock: 3-9         [197, 1536, 768]          10,042,368\n",
       "│    │    └─CrossFramelAttentionBlock: 3-10        [197, 1536, 768]          10,042,368\n",
       "│    │    └─CrossFramelAttentionBlock: 3-11        [197, 1536, 768]          10,042,368\n",
       "│    │    └─CrossFramelAttentionBlock: 3-12        [197, 1536, 768]          10,042,368\n",
       "├─LayerNorm: 1-4                                   [1536, 768]               1,536\n",
       "├─MultiframeIntegrationTransformer: 1-5            [4, 384, 512]             196,608\n",
       "│    └─Sequential: 2-2                             [384, 4, 512]             --\n",
       "│    │    └─ResidualAttentionBlock: 3-13           [384, 4, 512]             3,152,384\n",
       "│    │    └─ResidualAttentionBlock: 3-14           [384, 4, 512]             3,152,384\n",
       "│    │    └─ResidualAttentionBlock: 3-15           [384, 4, 512]             3,152,384\n",
       "│    │    └─ResidualAttentionBlock: 3-16           [384, 4, 512]             3,152,384\n",
       "├─MultiframeIntegrationTransformer: 1-6            [4, 384, 512]             (recursive)\n",
       "│    └─Sequential: 2-3                             [384, 4, 512]             (recursive)\n",
       "│    │    └─ResidualAttentionBlock: 3-17           [384, 4, 512]             (recursive)\n",
       "│    │    └─ResidualAttentionBlock: 3-18           [384, 4, 512]             (recursive)\n",
       "│    │    └─ResidualAttentionBlock: 3-19           [384, 4, 512]             (recursive)\n",
       "│    │    └─ResidualAttentionBlock: 3-20           [384, 4, 512]             (recursive)\n",
       "====================================================================================================\n",
       "Total params: 134,452,736\n",
       "Trainable params: 134,452,736\n",
       "Non-trainable params: 0\n",
       "Total mult-adds (Units.GIGABYTES): 195.25\n",
       "====================================================================================================\n",
       "Input size (MB): 924.84\n",
       "Forward/backward pass size (MB): 160803.32\n",
       "Params size (MB): 291.25\n",
       "Estimated Total Size (MB): 162019.41\n",
       "===================================================================================================="
      ]
     },
     "execution_count": 290,
     "metadata": {},
     "output_type": "execute_result"
    }
   ],
   "source": [
    "summary(embed_model, input_size=images.shape)"
   ]
  },
  {
   "cell_type": "code",
   "execution_count": 294,
   "metadata": {},
   "outputs": [],
   "source": [
    "model_date = torch.load(\"/Users/kanantharaman/.cache/clip/ViT-B-16.pt\",map_location=torch.device('cpu'))"
   ]
  },
  {
   "cell_type": "code",
   "execution_count": 304,
   "metadata": {},
   "outputs": [
    {
     "name": "stdout",
     "output_type": "stream",
     "text": [
      "positional_embedding torch.Size([77, 512])\n",
      "text_projection torch.Size([512, 512])\n",
      "logit_scale torch.Size([])\n",
      "visual.class_embedding torch.Size([768])\n",
      "visual.positional_embedding torch.Size([197, 768])\n",
      "visual.proj torch.Size([768, 512])\n",
      "visual.conv1.weight torch.Size([768, 3, 16, 16])\n",
      "visual.ln_pre.weight torch.Size([768])\n",
      "visual.ln_pre.bias torch.Size([768])\n",
      "visual.transformer.resblocks.0.attn.in_proj_weight torch.Size([2304, 768])\n",
      "visual.transformer.resblocks.0.attn.in_proj_bias torch.Size([2304])\n",
      "visual.transformer.resblocks.0.attn.out_proj.weight torch.Size([768, 768])\n",
      "visual.transformer.resblocks.0.attn.out_proj.bias torch.Size([768])\n",
      "visual.transformer.resblocks.0.ln_1.weight torch.Size([768])\n",
      "visual.transformer.resblocks.0.ln_1.bias torch.Size([768])\n",
      "visual.transformer.resblocks.0.mlp.c_fc.weight torch.Size([3072, 768])\n",
      "visual.transformer.resblocks.0.mlp.c_fc.bias torch.Size([3072])\n",
      "visual.transformer.resblocks.0.mlp.c_proj.weight torch.Size([768, 3072])\n",
      "visual.transformer.resblocks.0.mlp.c_proj.bias torch.Size([768])\n",
      "visual.transformer.resblocks.0.ln_2.weight torch.Size([768])\n",
      "visual.transformer.resblocks.0.ln_2.bias torch.Size([768])\n",
      "visual.transformer.resblocks.1.attn.in_proj_weight torch.Size([2304, 768])\n",
      "visual.transformer.resblocks.1.attn.in_proj_bias torch.Size([2304])\n",
      "visual.transformer.resblocks.1.attn.out_proj.weight torch.Size([768, 768])\n",
      "visual.transformer.resblocks.1.attn.out_proj.bias torch.Size([768])\n",
      "visual.transformer.resblocks.1.ln_1.weight torch.Size([768])\n",
      "visual.transformer.resblocks.1.ln_1.bias torch.Size([768])\n",
      "visual.transformer.resblocks.1.mlp.c_fc.weight torch.Size([3072, 768])\n",
      "visual.transformer.resblocks.1.mlp.c_fc.bias torch.Size([3072])\n",
      "visual.transformer.resblocks.1.mlp.c_proj.weight torch.Size([768, 3072])\n",
      "visual.transformer.resblocks.1.mlp.c_proj.bias torch.Size([768])\n",
      "visual.transformer.resblocks.1.ln_2.weight torch.Size([768])\n",
      "visual.transformer.resblocks.1.ln_2.bias torch.Size([768])\n",
      "visual.transformer.resblocks.2.attn.in_proj_weight torch.Size([2304, 768])\n",
      "visual.transformer.resblocks.2.attn.in_proj_bias torch.Size([2304])\n",
      "visual.transformer.resblocks.2.attn.out_proj.weight torch.Size([768, 768])\n",
      "visual.transformer.resblocks.2.attn.out_proj.bias torch.Size([768])\n",
      "visual.transformer.resblocks.2.ln_1.weight torch.Size([768])\n",
      "visual.transformer.resblocks.2.ln_1.bias torch.Size([768])\n",
      "visual.transformer.resblocks.2.mlp.c_fc.weight torch.Size([3072, 768])\n",
      "visual.transformer.resblocks.2.mlp.c_fc.bias torch.Size([3072])\n",
      "visual.transformer.resblocks.2.mlp.c_proj.weight torch.Size([768, 3072])\n",
      "visual.transformer.resblocks.2.mlp.c_proj.bias torch.Size([768])\n",
      "visual.transformer.resblocks.2.ln_2.weight torch.Size([768])\n",
      "visual.transformer.resblocks.2.ln_2.bias torch.Size([768])\n",
      "visual.transformer.resblocks.3.attn.in_proj_weight torch.Size([2304, 768])\n",
      "visual.transformer.resblocks.3.attn.in_proj_bias torch.Size([2304])\n",
      "visual.transformer.resblocks.3.attn.out_proj.weight torch.Size([768, 768])\n",
      "visual.transformer.resblocks.3.attn.out_proj.bias torch.Size([768])\n",
      "visual.transformer.resblocks.3.ln_1.weight torch.Size([768])\n",
      "visual.transformer.resblocks.3.ln_1.bias torch.Size([768])\n",
      "visual.transformer.resblocks.3.mlp.c_fc.weight torch.Size([3072, 768])\n",
      "visual.transformer.resblocks.3.mlp.c_fc.bias torch.Size([3072])\n",
      "visual.transformer.resblocks.3.mlp.c_proj.weight torch.Size([768, 3072])\n",
      "visual.transformer.resblocks.3.mlp.c_proj.bias torch.Size([768])\n",
      "visual.transformer.resblocks.3.ln_2.weight torch.Size([768])\n",
      "visual.transformer.resblocks.3.ln_2.bias torch.Size([768])\n",
      "visual.transformer.resblocks.4.attn.in_proj_weight torch.Size([2304, 768])\n",
      "visual.transformer.resblocks.4.attn.in_proj_bias torch.Size([2304])\n",
      "visual.transformer.resblocks.4.attn.out_proj.weight torch.Size([768, 768])\n",
      "visual.transformer.resblocks.4.attn.out_proj.bias torch.Size([768])\n",
      "visual.transformer.resblocks.4.ln_1.weight torch.Size([768])\n",
      "visual.transformer.resblocks.4.ln_1.bias torch.Size([768])\n",
      "visual.transformer.resblocks.4.mlp.c_fc.weight torch.Size([3072, 768])\n",
      "visual.transformer.resblocks.4.mlp.c_fc.bias torch.Size([3072])\n",
      "visual.transformer.resblocks.4.mlp.c_proj.weight torch.Size([768, 3072])\n",
      "visual.transformer.resblocks.4.mlp.c_proj.bias torch.Size([768])\n",
      "visual.transformer.resblocks.4.ln_2.weight torch.Size([768])\n",
      "visual.transformer.resblocks.4.ln_2.bias torch.Size([768])\n",
      "visual.transformer.resblocks.5.attn.in_proj_weight torch.Size([2304, 768])\n",
      "visual.transformer.resblocks.5.attn.in_proj_bias torch.Size([2304])\n",
      "visual.transformer.resblocks.5.attn.out_proj.weight torch.Size([768, 768])\n",
      "visual.transformer.resblocks.5.attn.out_proj.bias torch.Size([768])\n",
      "visual.transformer.resblocks.5.ln_1.weight torch.Size([768])\n",
      "visual.transformer.resblocks.5.ln_1.bias torch.Size([768])\n",
      "visual.transformer.resblocks.5.mlp.c_fc.weight torch.Size([3072, 768])\n",
      "visual.transformer.resblocks.5.mlp.c_fc.bias torch.Size([3072])\n",
      "visual.transformer.resblocks.5.mlp.c_proj.weight torch.Size([768, 3072])\n",
      "visual.transformer.resblocks.5.mlp.c_proj.bias torch.Size([768])\n",
      "visual.transformer.resblocks.5.ln_2.weight torch.Size([768])\n",
      "visual.transformer.resblocks.5.ln_2.bias torch.Size([768])\n",
      "visual.transformer.resblocks.6.attn.in_proj_weight torch.Size([2304, 768])\n",
      "visual.transformer.resblocks.6.attn.in_proj_bias torch.Size([2304])\n",
      "visual.transformer.resblocks.6.attn.out_proj.weight torch.Size([768, 768])\n",
      "visual.transformer.resblocks.6.attn.out_proj.bias torch.Size([768])\n",
      "visual.transformer.resblocks.6.ln_1.weight torch.Size([768])\n",
      "visual.transformer.resblocks.6.ln_1.bias torch.Size([768])\n",
      "visual.transformer.resblocks.6.mlp.c_fc.weight torch.Size([3072, 768])\n",
      "visual.transformer.resblocks.6.mlp.c_fc.bias torch.Size([3072])\n",
      "visual.transformer.resblocks.6.mlp.c_proj.weight torch.Size([768, 3072])\n",
      "visual.transformer.resblocks.6.mlp.c_proj.bias torch.Size([768])\n",
      "visual.transformer.resblocks.6.ln_2.weight torch.Size([768])\n",
      "visual.transformer.resblocks.6.ln_2.bias torch.Size([768])\n",
      "visual.transformer.resblocks.7.attn.in_proj_weight torch.Size([2304, 768])\n",
      "visual.transformer.resblocks.7.attn.in_proj_bias torch.Size([2304])\n",
      "visual.transformer.resblocks.7.attn.out_proj.weight torch.Size([768, 768])\n",
      "visual.transformer.resblocks.7.attn.out_proj.bias torch.Size([768])\n",
      "visual.transformer.resblocks.7.ln_1.weight torch.Size([768])\n",
      "visual.transformer.resblocks.7.ln_1.bias torch.Size([768])\n",
      "visual.transformer.resblocks.7.mlp.c_fc.weight torch.Size([3072, 768])\n",
      "visual.transformer.resblocks.7.mlp.c_fc.bias torch.Size([3072])\n",
      "visual.transformer.resblocks.7.mlp.c_proj.weight torch.Size([768, 3072])\n",
      "visual.transformer.resblocks.7.mlp.c_proj.bias torch.Size([768])\n",
      "visual.transformer.resblocks.7.ln_2.weight torch.Size([768])\n",
      "visual.transformer.resblocks.7.ln_2.bias torch.Size([768])\n",
      "visual.transformer.resblocks.8.attn.in_proj_weight torch.Size([2304, 768])\n",
      "visual.transformer.resblocks.8.attn.in_proj_bias torch.Size([2304])\n",
      "visual.transformer.resblocks.8.attn.out_proj.weight torch.Size([768, 768])\n",
      "visual.transformer.resblocks.8.attn.out_proj.bias torch.Size([768])\n",
      "visual.transformer.resblocks.8.ln_1.weight torch.Size([768])\n",
      "visual.transformer.resblocks.8.ln_1.bias torch.Size([768])\n",
      "visual.transformer.resblocks.8.mlp.c_fc.weight torch.Size([3072, 768])\n",
      "visual.transformer.resblocks.8.mlp.c_fc.bias torch.Size([3072])\n",
      "visual.transformer.resblocks.8.mlp.c_proj.weight torch.Size([768, 3072])\n",
      "visual.transformer.resblocks.8.mlp.c_proj.bias torch.Size([768])\n",
      "visual.transformer.resblocks.8.ln_2.weight torch.Size([768])\n",
      "visual.transformer.resblocks.8.ln_2.bias torch.Size([768])\n",
      "visual.transformer.resblocks.9.attn.in_proj_weight torch.Size([2304, 768])\n",
      "visual.transformer.resblocks.9.attn.in_proj_bias torch.Size([2304])\n",
      "visual.transformer.resblocks.9.attn.out_proj.weight torch.Size([768, 768])\n",
      "visual.transformer.resblocks.9.attn.out_proj.bias torch.Size([768])\n",
      "visual.transformer.resblocks.9.ln_1.weight torch.Size([768])\n",
      "visual.transformer.resblocks.9.ln_1.bias torch.Size([768])\n",
      "visual.transformer.resblocks.9.mlp.c_fc.weight torch.Size([3072, 768])\n",
      "visual.transformer.resblocks.9.mlp.c_fc.bias torch.Size([3072])\n",
      "visual.transformer.resblocks.9.mlp.c_proj.weight torch.Size([768, 3072])\n",
      "visual.transformer.resblocks.9.mlp.c_proj.bias torch.Size([768])\n",
      "visual.transformer.resblocks.9.ln_2.weight torch.Size([768])\n",
      "visual.transformer.resblocks.9.ln_2.bias torch.Size([768])\n",
      "visual.transformer.resblocks.10.attn.in_proj_weight torch.Size([2304, 768])\n",
      "visual.transformer.resblocks.10.attn.in_proj_bias torch.Size([2304])\n",
      "visual.transformer.resblocks.10.attn.out_proj.weight torch.Size([768, 768])\n",
      "visual.transformer.resblocks.10.attn.out_proj.bias torch.Size([768])\n",
      "visual.transformer.resblocks.10.ln_1.weight torch.Size([768])\n",
      "visual.transformer.resblocks.10.ln_1.bias torch.Size([768])\n",
      "visual.transformer.resblocks.10.mlp.c_fc.weight torch.Size([3072, 768])\n",
      "visual.transformer.resblocks.10.mlp.c_fc.bias torch.Size([3072])\n",
      "visual.transformer.resblocks.10.mlp.c_proj.weight torch.Size([768, 3072])\n",
      "visual.transformer.resblocks.10.mlp.c_proj.bias torch.Size([768])\n",
      "visual.transformer.resblocks.10.ln_2.weight torch.Size([768])\n",
      "visual.transformer.resblocks.10.ln_2.bias torch.Size([768])\n",
      "visual.transformer.resblocks.11.attn.in_proj_weight torch.Size([2304, 768])\n",
      "visual.transformer.resblocks.11.attn.in_proj_bias torch.Size([2304])\n",
      "visual.transformer.resblocks.11.attn.out_proj.weight torch.Size([768, 768])\n",
      "visual.transformer.resblocks.11.attn.out_proj.bias torch.Size([768])\n",
      "visual.transformer.resblocks.11.ln_1.weight torch.Size([768])\n",
      "visual.transformer.resblocks.11.ln_1.bias torch.Size([768])\n",
      "visual.transformer.resblocks.11.mlp.c_fc.weight torch.Size([3072, 768])\n",
      "visual.transformer.resblocks.11.mlp.c_fc.bias torch.Size([3072])\n",
      "visual.transformer.resblocks.11.mlp.c_proj.weight torch.Size([768, 3072])\n",
      "visual.transformer.resblocks.11.mlp.c_proj.bias torch.Size([768])\n",
      "visual.transformer.resblocks.11.ln_2.weight torch.Size([768])\n",
      "visual.transformer.resblocks.11.ln_2.bias torch.Size([768])\n",
      "visual.ln_post.weight torch.Size([768])\n",
      "visual.ln_post.bias torch.Size([768])\n",
      "transformer.resblocks.0.attn.in_proj_weight torch.Size([1536, 512])\n",
      "transformer.resblocks.0.attn.in_proj_bias torch.Size([1536])\n",
      "transformer.resblocks.0.attn.out_proj.weight torch.Size([512, 512])\n",
      "transformer.resblocks.0.attn.out_proj.bias torch.Size([512])\n",
      "transformer.resblocks.0.ln_1.weight torch.Size([512])\n",
      "transformer.resblocks.0.ln_1.bias torch.Size([512])\n",
      "transformer.resblocks.0.mlp.c_fc.weight torch.Size([2048, 512])\n",
      "transformer.resblocks.0.mlp.c_fc.bias torch.Size([2048])\n",
      "transformer.resblocks.0.mlp.c_proj.weight torch.Size([512, 2048])\n",
      "transformer.resblocks.0.mlp.c_proj.bias torch.Size([512])\n",
      "transformer.resblocks.0.ln_2.weight torch.Size([512])\n",
      "transformer.resblocks.0.ln_2.bias torch.Size([512])\n",
      "transformer.resblocks.1.attn.in_proj_weight torch.Size([1536, 512])\n",
      "transformer.resblocks.1.attn.in_proj_bias torch.Size([1536])\n",
      "transformer.resblocks.1.attn.out_proj.weight torch.Size([512, 512])\n",
      "transformer.resblocks.1.attn.out_proj.bias torch.Size([512])\n",
      "transformer.resblocks.1.ln_1.weight torch.Size([512])\n",
      "transformer.resblocks.1.ln_1.bias torch.Size([512])\n",
      "transformer.resblocks.1.mlp.c_fc.weight torch.Size([2048, 512])\n",
      "transformer.resblocks.1.mlp.c_fc.bias torch.Size([2048])\n",
      "transformer.resblocks.1.mlp.c_proj.weight torch.Size([512, 2048])\n",
      "transformer.resblocks.1.mlp.c_proj.bias torch.Size([512])\n",
      "transformer.resblocks.1.ln_2.weight torch.Size([512])\n",
      "transformer.resblocks.1.ln_2.bias torch.Size([512])\n",
      "transformer.resblocks.2.attn.in_proj_weight torch.Size([1536, 512])\n",
      "transformer.resblocks.2.attn.in_proj_bias torch.Size([1536])\n",
      "transformer.resblocks.2.attn.out_proj.weight torch.Size([512, 512])\n",
      "transformer.resblocks.2.attn.out_proj.bias torch.Size([512])\n",
      "transformer.resblocks.2.ln_1.weight torch.Size([512])\n",
      "transformer.resblocks.2.ln_1.bias torch.Size([512])\n",
      "transformer.resblocks.2.mlp.c_fc.weight torch.Size([2048, 512])\n",
      "transformer.resblocks.2.mlp.c_fc.bias torch.Size([2048])\n",
      "transformer.resblocks.2.mlp.c_proj.weight torch.Size([512, 2048])\n",
      "transformer.resblocks.2.mlp.c_proj.bias torch.Size([512])\n",
      "transformer.resblocks.2.ln_2.weight torch.Size([512])\n",
      "transformer.resblocks.2.ln_2.bias torch.Size([512])\n",
      "transformer.resblocks.3.attn.in_proj_weight torch.Size([1536, 512])\n",
      "transformer.resblocks.3.attn.in_proj_bias torch.Size([1536])\n",
      "transformer.resblocks.3.attn.out_proj.weight torch.Size([512, 512])\n",
      "transformer.resblocks.3.attn.out_proj.bias torch.Size([512])\n",
      "transformer.resblocks.3.ln_1.weight torch.Size([512])\n",
      "transformer.resblocks.3.ln_1.bias torch.Size([512])\n",
      "transformer.resblocks.3.mlp.c_fc.weight torch.Size([2048, 512])\n",
      "transformer.resblocks.3.mlp.c_fc.bias torch.Size([2048])\n",
      "transformer.resblocks.3.mlp.c_proj.weight torch.Size([512, 2048])\n",
      "transformer.resblocks.3.mlp.c_proj.bias torch.Size([512])\n",
      "transformer.resblocks.3.ln_2.weight torch.Size([512])\n",
      "transformer.resblocks.3.ln_2.bias torch.Size([512])\n",
      "transformer.resblocks.4.attn.in_proj_weight torch.Size([1536, 512])\n",
      "transformer.resblocks.4.attn.in_proj_bias torch.Size([1536])\n",
      "transformer.resblocks.4.attn.out_proj.weight torch.Size([512, 512])\n",
      "transformer.resblocks.4.attn.out_proj.bias torch.Size([512])\n",
      "transformer.resblocks.4.ln_1.weight torch.Size([512])\n",
      "transformer.resblocks.4.ln_1.bias torch.Size([512])\n",
      "transformer.resblocks.4.mlp.c_fc.weight torch.Size([2048, 512])\n",
      "transformer.resblocks.4.mlp.c_fc.bias torch.Size([2048])\n",
      "transformer.resblocks.4.mlp.c_proj.weight torch.Size([512, 2048])\n",
      "transformer.resblocks.4.mlp.c_proj.bias torch.Size([512])\n",
      "transformer.resblocks.4.ln_2.weight torch.Size([512])\n",
      "transformer.resblocks.4.ln_2.bias torch.Size([512])\n",
      "transformer.resblocks.5.attn.in_proj_weight torch.Size([1536, 512])\n",
      "transformer.resblocks.5.attn.in_proj_bias torch.Size([1536])\n",
      "transformer.resblocks.5.attn.out_proj.weight torch.Size([512, 512])\n",
      "transformer.resblocks.5.attn.out_proj.bias torch.Size([512])\n",
      "transformer.resblocks.5.ln_1.weight torch.Size([512])\n",
      "transformer.resblocks.5.ln_1.bias torch.Size([512])\n",
      "transformer.resblocks.5.mlp.c_fc.weight torch.Size([2048, 512])\n",
      "transformer.resblocks.5.mlp.c_fc.bias torch.Size([2048])\n",
      "transformer.resblocks.5.mlp.c_proj.weight torch.Size([512, 2048])\n",
      "transformer.resblocks.5.mlp.c_proj.bias torch.Size([512])\n",
      "transformer.resblocks.5.ln_2.weight torch.Size([512])\n",
      "transformer.resblocks.5.ln_2.bias torch.Size([512])\n",
      "transformer.resblocks.6.attn.in_proj_weight torch.Size([1536, 512])\n",
      "transformer.resblocks.6.attn.in_proj_bias torch.Size([1536])\n",
      "transformer.resblocks.6.attn.out_proj.weight torch.Size([512, 512])\n",
      "transformer.resblocks.6.attn.out_proj.bias torch.Size([512])\n",
      "transformer.resblocks.6.ln_1.weight torch.Size([512])\n",
      "transformer.resblocks.6.ln_1.bias torch.Size([512])\n",
      "transformer.resblocks.6.mlp.c_fc.weight torch.Size([2048, 512])\n",
      "transformer.resblocks.6.mlp.c_fc.bias torch.Size([2048])\n",
      "transformer.resblocks.6.mlp.c_proj.weight torch.Size([512, 2048])\n",
      "transformer.resblocks.6.mlp.c_proj.bias torch.Size([512])\n",
      "transformer.resblocks.6.ln_2.weight torch.Size([512])\n",
      "transformer.resblocks.6.ln_2.bias torch.Size([512])\n",
      "transformer.resblocks.7.attn.in_proj_weight torch.Size([1536, 512])\n",
      "transformer.resblocks.7.attn.in_proj_bias torch.Size([1536])\n",
      "transformer.resblocks.7.attn.out_proj.weight torch.Size([512, 512])\n",
      "transformer.resblocks.7.attn.out_proj.bias torch.Size([512])\n",
      "transformer.resblocks.7.ln_1.weight torch.Size([512])\n",
      "transformer.resblocks.7.ln_1.bias torch.Size([512])\n",
      "transformer.resblocks.7.mlp.c_fc.weight torch.Size([2048, 512])\n",
      "transformer.resblocks.7.mlp.c_fc.bias torch.Size([2048])\n",
      "transformer.resblocks.7.mlp.c_proj.weight torch.Size([512, 2048])\n",
      "transformer.resblocks.7.mlp.c_proj.bias torch.Size([512])\n",
      "transformer.resblocks.7.ln_2.weight torch.Size([512])\n",
      "transformer.resblocks.7.ln_2.bias torch.Size([512])\n",
      "transformer.resblocks.8.attn.in_proj_weight torch.Size([1536, 512])\n",
      "transformer.resblocks.8.attn.in_proj_bias torch.Size([1536])\n",
      "transformer.resblocks.8.attn.out_proj.weight torch.Size([512, 512])\n",
      "transformer.resblocks.8.attn.out_proj.bias torch.Size([512])\n",
      "transformer.resblocks.8.ln_1.weight torch.Size([512])\n",
      "transformer.resblocks.8.ln_1.bias torch.Size([512])\n",
      "transformer.resblocks.8.mlp.c_fc.weight torch.Size([2048, 512])\n",
      "transformer.resblocks.8.mlp.c_fc.bias torch.Size([2048])\n",
      "transformer.resblocks.8.mlp.c_proj.weight torch.Size([512, 2048])\n",
      "transformer.resblocks.8.mlp.c_proj.bias torch.Size([512])\n",
      "transformer.resblocks.8.ln_2.weight torch.Size([512])\n",
      "transformer.resblocks.8.ln_2.bias torch.Size([512])\n",
      "transformer.resblocks.9.attn.in_proj_weight torch.Size([1536, 512])\n",
      "transformer.resblocks.9.attn.in_proj_bias torch.Size([1536])\n",
      "transformer.resblocks.9.attn.out_proj.weight torch.Size([512, 512])\n",
      "transformer.resblocks.9.attn.out_proj.bias torch.Size([512])\n",
      "transformer.resblocks.9.ln_1.weight torch.Size([512])\n",
      "transformer.resblocks.9.ln_1.bias torch.Size([512])\n",
      "transformer.resblocks.9.mlp.c_fc.weight torch.Size([2048, 512])\n",
      "transformer.resblocks.9.mlp.c_fc.bias torch.Size([2048])\n",
      "transformer.resblocks.9.mlp.c_proj.weight torch.Size([512, 2048])\n",
      "transformer.resblocks.9.mlp.c_proj.bias torch.Size([512])\n",
      "transformer.resblocks.9.ln_2.weight torch.Size([512])\n",
      "transformer.resblocks.9.ln_2.bias torch.Size([512])\n",
      "transformer.resblocks.10.attn.in_proj_weight torch.Size([1536, 512])\n",
      "transformer.resblocks.10.attn.in_proj_bias torch.Size([1536])\n",
      "transformer.resblocks.10.attn.out_proj.weight torch.Size([512, 512])\n",
      "transformer.resblocks.10.attn.out_proj.bias torch.Size([512])\n",
      "transformer.resblocks.10.ln_1.weight torch.Size([512])\n",
      "transformer.resblocks.10.ln_1.bias torch.Size([512])\n",
      "transformer.resblocks.10.mlp.c_fc.weight torch.Size([2048, 512])\n",
      "transformer.resblocks.10.mlp.c_fc.bias torch.Size([2048])\n",
      "transformer.resblocks.10.mlp.c_proj.weight torch.Size([512, 2048])\n",
      "transformer.resblocks.10.mlp.c_proj.bias torch.Size([512])\n",
      "transformer.resblocks.10.ln_2.weight torch.Size([512])\n",
      "transformer.resblocks.10.ln_2.bias torch.Size([512])\n",
      "transformer.resblocks.11.attn.in_proj_weight torch.Size([1536, 512])\n",
      "transformer.resblocks.11.attn.in_proj_bias torch.Size([1536])\n",
      "transformer.resblocks.11.attn.out_proj.weight torch.Size([512, 512])\n",
      "transformer.resblocks.11.attn.out_proj.bias torch.Size([512])\n",
      "transformer.resblocks.11.ln_1.weight torch.Size([512])\n",
      "transformer.resblocks.11.ln_1.bias torch.Size([512])\n",
      "transformer.resblocks.11.mlp.c_fc.weight torch.Size([2048, 512])\n",
      "transformer.resblocks.11.mlp.c_fc.bias torch.Size([2048])\n",
      "transformer.resblocks.11.mlp.c_proj.weight torch.Size([512, 2048])\n",
      "transformer.resblocks.11.mlp.c_proj.bias torch.Size([512])\n",
      "transformer.resblocks.11.ln_2.weight torch.Size([512])\n",
      "transformer.resblocks.11.ln_2.bias torch.Size([512])\n",
      "token_embedding.weight torch.Size([49408, 512])\n",
      "ln_final.weight torch.Size([512])\n",
      "ln_final.bias torch.Size([512])\n"
     ]
    }
   ],
   "source": [
    "for name, param in model_date.named_parameters():\n",
    "    print(name, param.shape)"
   ]
  }
 ],
 "metadata": {
  "kernelspec": {
   "display_name": "base",
   "language": "python",
   "name": "python3"
  },
  "language_info": {
   "codemirror_mode": {
    "name": "ipython",
    "version": 3
   },
   "file_extension": ".py",
   "mimetype": "text/x-python",
   "name": "python",
   "nbconvert_exporter": "python",
   "pygments_lexer": "ipython3",
   "version": "3.11.5"
  }
 },
 "nbformat": 4,
 "nbformat_minor": 2
}
